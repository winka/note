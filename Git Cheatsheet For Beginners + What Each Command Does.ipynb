{
 "cells": [
  {
   "cell_type": "markdown",
   "id": "4e24db25",
   "metadata": {},
   "source": [
    "https://medium.com/codex/git-cheatsheet-for-beginners-what-each-command-does-cedd89b8f4c6"
   ]
  },
  {
   "cell_type": "code",
   "execution_count": null,
   "id": "29bda30a",
   "metadata": {},
   "outputs": [],
   "source": []
  }
 ],
 "metadata": {
  "kernelspec": {
   "display_name": "Python 3 (ipykernel)",
   "language": "python",
   "name": "python3"
  },
  "language_info": {
   "codemirror_mode": {
    "name": "ipython",
    "version": 3
   },
   "file_extension": ".py",
   "mimetype": "text/x-python",
   "name": "python",
   "nbconvert_exporter": "python",
   "pygments_lexer": "ipython3",
   "version": "3.9.13"
  }
 },
 "nbformat": 4,
 "nbformat_minor": 5
}
