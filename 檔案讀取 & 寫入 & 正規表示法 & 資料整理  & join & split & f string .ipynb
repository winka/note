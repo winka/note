{
 "cells": [
  {
   "cell_type": "markdown",
   "id": "cc0d79be",
   "metadata": {},
   "source": [
    "# 檔案存取\n",
    "## 一般文字TXT檔案存取"
   ]
  },
  {
   "cell_type": "code",
   "execution_count": null,
   "id": "651e5038",
   "metadata": {},
   "outputs": [],
   "source": [
    "\n",
    "f = open('尖兵.txt', 'r',encoding=\"utf-8\")\n",
    "\n",
    "print(f)"
   ]
  },
  {
   "cell_type": "code",
   "execution_count": null,
   "id": "bbce5d3d",
   "metadata": {},
   "outputs": [],
   "source": [
    "read_data = f.read()\n",
    "print(read_data)\n",
    "\n"
   ]
  },
  {
   "cell_type": "code",
   "execution_count": null,
   "id": "0cb0e176",
   "metadata": {},
   "outputs": [],
   "source": [
    "type(read_data) # 用str的方法"
   ]
  },
  {
   "cell_type": "markdown",
   "id": "2cef2f96",
   "metadata": {},
   "source": [
    "## 正規表示法 刪除數字"
   ]
  },
  {
   "cell_type": "code",
   "execution_count": null,
   "id": "a1c0ffa8",
   "metadata": {},
   "outputs": [],
   "source": [
    "# 刪除數字 留下姓名\n",
    "import re\n",
    "newstring = re.sub(r'[0-9]+', '', list1) # 刪除0-9 \n",
    "print(newstring)\n",
    "f = open('尖兵刪除數字.txt','w',encoding='utf-8')\n",
    "f.write(newstring)\n",
    "f.close()"
   ]
  },
  {
   "cell_type": "markdown",
   "id": "829e8fed",
   "metadata": {},
   "source": [
    "## 重整資料"
   ]
  },
  {
   "cell_type": "code",
   "execution_count": null,
   "id": "e00ede94",
   "metadata": {},
   "outputs": [],
   "source": [
    "list2 = read_data.split()\n",
    "str1 = ''\n",
    "\n",
    "for i in range(0,len(list2),2):\n",
    "    str1 = str1 + '學號' + list2[i] + '姓名' + list2[i+1] +'\\n'\n",
    "print(str1)"
   ]
  },
  {
   "cell_type": "markdown",
   "id": "e499e85d",
   "metadata": {},
   "source": [
    "## 將資料寫入新的txt檔"
   ]
  },
  {
   "cell_type": "code",
   "execution_count": null,
   "id": "cb8ec930",
   "metadata": {},
   "outputs": [],
   "source": [
    "f = open('尖兵1.txt','w',encoding='utf-8')\n",
    "f.write(str1)\n",
    "f.close()"
   ]
  },
  {
   "cell_type": "code",
   "execution_count": null,
   "id": "a18ddcfd",
   "metadata": {},
   "outputs": [],
   "source": [
    "for i in range(3):\n",
    "    a=4\n",
    "print(a)\n",
    "# 竟然可以在外面印出在裡面的 a"
   ]
  },
  {
   "cell_type": "markdown",
   "id": "2080eb45",
   "metadata": {},
   "source": [
    "## csv檔讀取"
   ]
  },
  {
   "cell_type": "markdown",
   "id": "8cdf0b76",
   "metadata": {},
   "source": [
    "逗號分隔值（Comma-Separated Values，CSV，有時也稱為字元分隔值，\n",
    "因為分隔字元也可以不是逗號）"
   ]
  },
  {
   "cell_type": "code",
   "execution_count": null,
   "id": "7ee923b8",
   "metadata": {},
   "outputs": [],
   "source": [
    "# with open 特性\n",
    "# with as 可以自動關檔\n",
    "# with open() as 變數\n",
    "# 不能脫離 with open程式區塊 會關檔\n",
    "import csv\n",
    "with open('hsinchu.csv', newline='',encoding='utf-8') as csvfile:\n",
    "    spamreader = csv.reader(csvfile)\n",
    "    list1 = list(spamreader)\n",
    "    \n",
    "list1\n"
   ]
  },
  {
   "cell_type": "code",
   "execution_count": null,
   "id": "c54336bf",
   "metadata": {},
   "outputs": [],
   "source": [
    "# 十八尖山人數計算\n",
    "people_count = 0 \n",
    "for i in range(1,len(list1)):\n",
    "    people_count +=  int(one_eightMT[i])\n",
    "people_count\n"
   ]
  },
  {
   "cell_type": "code",
   "execution_count": null,
   "id": "aeb40fd6",
   "metadata": {},
   "outputs": [],
   "source": [
    "#  各景點人數\n",
    "for columns in range(1,len(list1[0])):\n",
    "    people_count = 0\n",
    "    print(list1[0][columns],end=':')\n",
    "    for row in range(1,len(list1)):\n",
    "        people_count +=  int(list1[row][columns])\n",
    "    print(people_count)"
   ]
  },
  {
   "cell_type": "code",
   "execution_count": null,
   "id": "d7c3e898",
   "metadata": {},
   "outputs": [],
   "source": [
    "list1[0]"
   ]
  },
  {
   "cell_type": "code",
   "execution_count": null,
   "id": "1fcd0a50",
   "metadata": {},
   "outputs": [],
   "source": [
    "# 各年人數計算\n",
    "for i in range(1,len(list1)):\n",
    "    people_count = 0\n",
    "    print(list1[i][0],end=':') \n",
    "    for j in range(1,len(list1[i])):\n",
    "        people_count += int(list1[i][j])\n",
    "    print(people_count)"
   ]
  },
  {
   "cell_type": "code",
   "execution_count": null,
   "id": "49817199",
   "metadata": {},
   "outputs": [],
   "source": [
    "# 總人數計算\n",
    "all_count = 0 #全部人數\n",
    "for i in range(1,len(list1)):\n",
    "    people_count = 0\n",
    "    print(list1[i][0],end=':') \n",
    "    for j in range(1,len(list1[i])):\n",
    "        people_count += int(list1[i][j])\n",
    "    all_count+=people_count\n",
    "    print(people_count)\n",
    "print(all_count)"
   ]
  },
  {
   "cell_type": "markdown",
   "id": "a16930de",
   "metadata": {},
   "source": [
    "# 股票匯入"
   ]
  },
  {
   "cell_type": "code",
   "execution_count": null,
   "id": "18b33c77",
   "metadata": {},
   "outputs": [],
   "source": [
    "import csv\n",
    "with open('TW1101stock.csv', newline='',encoding='big5') as csvfile:\n",
    "    data = csv.reader(csvfile)\n",
    "    list1 = list(data)\n",
    "list1"
   ]
  },
  {
   "cell_type": "code",
   "execution_count": null,
   "id": "f349403f",
   "metadata": {},
   "outputs": [],
   "source": [
    "dir(list1)"
   ]
  },
  {
   "cell_type": "markdown",
   "id": "1d39d353",
   "metadata": {},
   "source": [
    "# 老師的解法"
   ]
  },
  {
   "cell_type": "code",
   "execution_count": null,
   "id": "1e731da1",
   "metadata": {},
   "outputs": [],
   "source": [
    "list3 = [] \n",
    "list3.append(list1[1][:2]+list1[1][3:7])\n",
    "for  i in range(2,(len(list1)-1)):\n",
    "    if list1[i][0] != '近年最高價':\n",
    "        list3.append(list1[i][:2]+list1[i][3:7]) # 新用法\n",
    "    else:\n",
    "        break\n",
    "list3"
   ]
  },
  {
   "cell_type": "markdown",
   "id": "27a78004",
   "metadata": {},
   "source": [
    "# 資料型別轉換 去除逗號"
   ]
  },
  {
   "cell_type": "code",
   "execution_count": null,
   "id": "03132497",
   "metadata": {},
   "outputs": [],
   "source": [
    "for i in range(1,len(list3)):\n",
    "        list3[i][2] = int(''.join(list3[i][2].split(',')))\n",
    "list3"
   ]
  },
  {
   "cell_type": "markdown",
   "id": "fe919826",
   "metadata": {},
   "source": [
    "# 資料匯入"
   ]
  },
  {
   "cell_type": "code",
   "execution_count": null,
   "id": "890ebd7b",
   "metadata": {},
   "outputs": [],
   "source": [
    "import csv\n",
    "with open('eggs.csv', 'w', newline='') as csvfile:\n",
    "    spamwriter = csv.writer(csvfile, delimiter=' ',\n",
    "                            quotechar='|', quoting=csv.QUOTE_MINIMAL)\n",
    "    for i in list3:\n",
    "        spamwriter.writerow(i)"
   ]
  },
  {
   "cell_type": "markdown",
   "id": "9eb76f74",
   "metadata": {},
   "source": [
    "# 我的版本"
   ]
  },
  {
   "cell_type": "code",
   "execution_count": null,
   "id": "e6af4408",
   "metadata": {},
   "outputs": [],
   "source": [
    "# 股票資料整理 刪除某些欄位 我的版本\n",
    "new_data = []\n",
    "\n",
    "for i in range(1,(len(list1)-7)):\n",
    "    for j in range(1,(len(list1[i])-1)):\n",
    "        if j != 5  :\n",
    "            if j!= 7 :\n",
    "                new_data.append(list1[i][j])\n",
    "    \n",
    "\n",
    "\n",
    "print(new_data)"
   ]
  },
  {
   "cell_type": "code",
   "execution_count": null,
   "id": "a5daf8f0",
   "metadata": {},
   "outputs": [],
   "source": [
    "new_data = []\n",
    "\n",
    "for i in range(1,(len(list1)-7)):\n",
    "    for j in range(1,len(list1[i])):\n",
    "        if  j!=5 :\n",
    "            new_data.append(list1[i][1:])\n",
    "    \n",
    "\n",
    "\n",
    "print(new_data)"
   ]
  },
  {
   "cell_type": "markdown",
   "id": "272043c1",
   "metadata": {},
   "source": [
    "# 去除逗號 join & split"
   ]
  },
  {
   "cell_type": "code",
   "execution_count": null,
   "id": "c99f5bc1",
   "metadata": {},
   "outputs": [],
   "source": [
    "'8,560,54'.split(',')"
   ]
  },
  {
   "cell_type": "code",
   "execution_count": null,
   "id": "da7de51a",
   "metadata": {},
   "outputs": [],
   "source": [
    "''.join(['8', '560', '54']) #重要用法 join合併"
   ]
  },
  {
   "cell_type": "code",
   "execution_count": null,
   "id": "56461c0b",
   "metadata": {},
   "outputs": [],
   "source": [
    "int(''.join(list3[3][1].split(',')))"
   ]
  },
  {
   "cell_type": "markdown",
   "id": "a99a4b97",
   "metadata": {},
   "source": [
    " # 厲害的用法 (彌補切片缺點)"
   ]
  },
  {
   "cell_type": "code",
   "execution_count": 7,
   "id": "52cb1cda",
   "metadata": {},
   "outputs": [
    {
     "ename": "TypeError",
     "evalue": "list indices must be integers or slices, not list",
     "output_type": "error",
     "traceback": [
      "\u001b[1;31m---------------------------------------------------------------------------\u001b[0m",
      "\u001b[1;31mTypeError\u001b[0m                                 Traceback (most recent call last)",
      "Cell \u001b[1;32mIn[7], line 1\u001b[0m\n\u001b[1;32m----> 1\u001b[0m list3\u001b[38;5;241m.\u001b[39mappend(\u001b[43mlist1\u001b[49m\u001b[43m[\u001b[49m\u001b[43mi\u001b[49m\u001b[43m]\u001b[49m[:\u001b[38;5;241m2\u001b[39m] \u001b[38;5;241m+\u001b[39m list1[i][\u001b[38;5;241m3\u001b[39m:\u001b[38;5;241m7\u001b[39m])\n",
      "\u001b[1;31mTypeError\u001b[0m: list indices must be integers or slices, not list"
     ]
    }
   ],
   "source": [
    "list3.append(list1[i][:2] + list1[i][3:7])"
   ]
  },
  {
   "cell_type": "markdown",
   "id": "5d6c505d",
   "metadata": {},
   "source": [
    "# 整合作業"
   ]
  },
  {
   "cell_type": "code",
   "execution_count": 6,
   "id": "0fc8e268",
   "metadata": {},
   "outputs": [],
   "source": [
    "import csv\n",
    "list3 = []\n",
    "# 讀取\n",
    "for i in range(1,5):\n",
    "    str1 = f'C:\\\\Users\\\\USER\\\\Desktop\\\\winka\\\\data\\\\STOCK_DAY_1101_2022{i:02}.csv' # f string \n",
    "    with open(str1, encoding='big5') as csvfile:\n",
    "        data = csv.reader(csvfile)\n",
    "        list1 = list(data)\n",
    "\n",
    "    for  i in range(2,(len(list1)-1)):\n",
    "        if list1[i][0] != '說明:':\n",
    "            list3.append(list1[i][:2]+list1[i][3:7])  \n",
    "        else:\n",
    "            break\n",
    "\n",
    "list3.insert(0,list1[1][:2]+list1[1][3:7]) #加入欄位 ['日期', '成交股數', '開盤價', '最高價', '最低價', '收盤價', '漲跌價差']\n",
    "\n",
    "# 寫入資料\n",
    "with open('台泥資料整合.csv', 'w', newline='') as csvfile:\n",
    "     spamwriter = csv.writer(csvfile, delimiter=' ',quotechar='|', quoting=csv.QUOTE_MINIMAL)\n",
    "     for i in list3:\n",
    "        spamwriter.writerow(i)\n",
    "\n"
   ]
  },
  {
   "cell_type": "markdown",
   "id": "eb843ebb",
   "metadata": {},
   "source": [
    "# f string 用法"
   ]
  },
  {
   "cell_type": "code",
   "execution_count": null,
   "id": "dffc91f0",
   "metadata": {},
   "outputs": [],
   "source": [
    "i = 2\n",
    "f'C:\\\\Users\\\\USER\\\\Desktop\\\\winka\\\\data\\\\TOCK_DAY_1101_2022{i:02}.csv'\n"
   ]
  },
  {
   "cell_type": "code",
   "execution_count": null,
   "id": "11327757",
   "metadata": {},
   "outputs": [],
   "source": []
  }
 ],
 "metadata": {
  "kernelspec": {
   "display_name": "Python 3 (ipykernel)",
   "language": "python",
   "name": "python3"
  },
  "language_info": {
   "codemirror_mode": {
    "name": "ipython",
    "version": 3
   },
   "file_extension": ".py",
   "mimetype": "text/x-python",
   "name": "python",
   "nbconvert_exporter": "python",
   "pygments_lexer": "ipython3",
   "version": "3.9.13"
  }
 },
 "nbformat": 4,
 "nbformat_minor": 5
}
