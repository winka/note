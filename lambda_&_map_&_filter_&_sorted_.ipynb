{
  "nbformat": 4,
  "nbformat_minor": 0,
  "metadata": {
    "colab": {
      "provenance": [],
      "authorship_tag": "ABX9TyNVfYI6Q+nLmCAqf5VZQnKX",
      "include_colab_link": true
    },
    "kernelspec": {
      "name": "python3",
      "display_name": "Python 3"
    },
    "language_info": {
      "name": "python"
    }
  },
  "cells": [
    {
      "cell_type": "markdown",
      "metadata": {
        "id": "view-in-github",
        "colab_type": "text"
      },
      "source": [
        "<a href=\"https://colab.research.google.com/github/winka/note/blob/main/lambda_%26_map_%26_filter_%26_sorted_.ipynb\" target=\"_parent\"><img src=\"https://colab.research.google.com/assets/colab-badge.svg\" alt=\"Open In Colab\"/></a>"
      ]
    },
    {
      "cell_type": "markdown",
      "source": [
        "#**匿名函式的特性**\n",
        "###lambda 匿名函式具有下列幾種特性：\n",
        "####1.匿名函式**不需要定義名稱**，一般函式需定義名稱。\n",
        "####**2.匿名函式只能有一行運算式(重要)**。\n",
        "####3.匿名函式執行完成後自動回傳結果，一般函式加上 return 才能回傳結果。"
      ],
      "metadata": {
        "id": "WAWLUYQKfxP8"
      }
    },
    {
      "cell_type": "markdown",
      "source": [
        "####lambda 函式的**使用方法為「lambda 名稱: 內容」**，下方的程式裡，lambda 函式執行的結果等同於 hello 函式。"
      ],
      "metadata": {
        "id": "9WzjGve1gcQk"
      }
    },
    {
      "cell_type": "code",
      "execution_count": 1,
      "metadata": {
        "colab": {
          "base_uri": "https://localhost:8080/"
        },
        "id": "d5Xei8MIfvyt",
        "outputId": "dab0675c-aa6b-4100-f83a-d67fb355c446"
      },
      "outputs": [
        {
          "output_type": "stream",
          "name": "stdout",
          "text": [
            "oxxo\n",
            "oxxo\n"
          ]
        }
      ],
      "source": [
        "def hello(title):\n",
        "    print(title)\n",
        "\n",
        "hello('oxxo')      \n",
        "(lambda title: print(title))('oxxo')  "
      ]
    },
    {
      "cell_type": "markdown",
      "source": [
        "#**使用多個參數** \n",
        "lambda 函式可以支援參數，**使用時「不需要用小括號」包住參數，如果有多個參數時，使用「逗號」分隔每個參數**，此外，如果函式裡會有回傳值，**在 lambda 函式裡不需要撰寫 return 語法，計算完畢就會將值回傳。**\n"
      ],
      "metadata": {
        "id": "CXEE16CtgwnM"
      }
    },
    {
      "cell_type": "markdown",
      "source": [
        "下方的程式裡，lambda 函式執行的結果等同於 hello 函式，會計算出 x+y 的數值。"
      ],
      "metadata": {
        "id": "BJTmDMgog8r2"
      }
    },
    {
      "cell_type": "code",
      "source": [
        "def hello(x, y):\n",
        "    return x + y\n",
        "\n",
        "a = hello(1,2)\n",
        "b = (lambda x, y: x+y)(1,2)\n",
        "print(a)    # 3\n",
        "print(b)    # 3"
      ],
      "metadata": {
        "colab": {
          "base_uri": "https://localhost:8080/"
        },
        "id": "LgrZxn4Tg8Ge",
        "outputId": "86960245-26fe-4acf-d194-5e0f5f502934"
      },
      "execution_count": 2,
      "outputs": [
        {
          "output_type": "stream",
          "name": "stdout",
          "text": [
            "3\n",
            "3\n"
          ]
        }
      ]
    },
    {
      "cell_type": "markdown",
      "source": [
        "lambda 函式可以給予一個變數作為名稱 ( function name )，使用時就像是呼叫函式的用法，但仍然要注意 lambda 函式只能撰寫「一行程式」，所以只適用於比較小型的程式。"
      ],
      "metadata": {
        "id": "s2mT8peUikrf"
      }
    },
    {
      "cell_type": "markdown",
      "source": [
        "下方的程式裡，lambda 函式 b 執行的結果等同於 a 函式，會計算出 x+y 的數值。"
      ],
      "metadata": {
        "id": "lgDrig17ipDw"
      }
    },
    {
      "cell_type": "code",
      "source": [
        "def a(x, y):\n",
        "    return x+y\n",
        "b = lambda x, y: x+y\n",
        "print(a(1,2))   # 3\n",
        "print(b(1,2))   # 3"
      ],
      "metadata": {
        "colab": {
          "base_uri": "https://localhost:8080/"
        },
        "id": "8o6HgPzRioYA",
        "outputId": "d2fa0ebd-3919-4428-cf8f-10ffe94c7750"
      },
      "execution_count": 3,
      "outputs": [
        {
          "output_type": "stream",
          "name": "stdout",
          "text": [
            "3\n",
            "3\n"
          ]
        }
      ]
    },
    {
      "cell_type": "markdown",
      "source": [
        "#**搭配 map 方法** \n",
        "\n",
        "下方的程式將 lambda 函式 map 方法搭配，產生一個新的 b 串列，b 串列的項目是 a 串列項目的平方。"
      ],
      "metadata": {
        "id": "GRgDPwaWkAzo"
      }
    },
    {
      "cell_type": "code",
      "source": [
        "a = [1,2,3,4,5,6,7,8,9]\n",
        "b = map(lambda x: x*x, a)\n",
        "print(list(b))    # [1, 4, 9, 16, 25, 36, 49, 64, 81]"
      ],
      "metadata": {
        "id": "azvZUiiPkroQ"
      },
      "execution_count": null,
      "outputs": []
    },
    {
      "cell_type": "markdown",
      "source": [
        "# **map用法**\n",
        "map() 使用指定的函式，依序處理可迭代物件的每個項目，處理後產生一個全新的物件，"
      ],
      "metadata": {
        "id": "q21Ly_3Mir8e"
      }
    },
    {
      "cell_type": "markdown",
      "source": [
        "## **map(function, iter)**\n",
        "map() **將第二個參數的可迭代物件，提供給第一個參數的函式作為引數使用。**\n"
      ],
      "metadata": {
        "id": "ZMhwIOUFlKum"
      }
    },
    {
      "cell_type": "markdown",
      "source": [],
      "metadata": {
        "id": "pf4F0QmqlV4Y"
      }
    },
    {
      "cell_type": "code",
      "source": [
        "def a(x):\n",
        "    return x+1\n",
        "b = map(a, [1,2,3,4,5])\n",
        "c = map(lambda x: x+1, [1,2,3,4,5]) #　將第二個參數提供給第一個參數函數使用\n",
        "\n",
        "print(list(b))    # [2, 3, 4, 5, 6]\n",
        "print(tuple(c))   # (2, 3, 4, 5, 6)"
      ],
      "metadata": {
        "colab": {
          "base_uri": "https://localhost:8080/"
        },
        "id": "F0uW68lilERN",
        "outputId": "0df99c8e-1908-4f90-d10e-d1a45a4b10d4"
      },
      "execution_count": 4,
      "outputs": [
        {
          "output_type": "stream",
          "name": "stdout",
          "text": [
            "[2, 3, 4, 5, 6]\n",
            "(2, 3, 4, 5, 6)\n"
          ]
        }
      ]
    },
    {
      "cell_type": "markdown",
      "source": [
        "下方的例子，a 為一個文字串列，**透過 map() 的方式可以快速的將 a 轉換為數字串列。**"
      ],
      "metadata": {
        "id": "jWTDbITTlswh"
      }
    },
    {
      "cell_type": "code",
      "source": [
        "a = ['1', '2', '3' ,'4', '5']\n",
        "print(a)                \n",
        "# ['1', '2', '3' ,'4', '5']\n",
        "\n",
        "b = list(map(int, a))   # 取出 a 的每個項目，套用 int(項目)，組成新物件\n",
        "print(b)                \n",
        "# [1, 2, 3, 4, 5]"
      ],
      "metadata": {
        "id": "2WjJz98PlvtP"
      },
      "execution_count": null,
      "outputs": []
    },
    {
      "cell_type": "markdown",
      "source": [
        "因為 map 回傳的是一個可迭代物件，所以也可以將其賦值給變數，\n",
        "\n",
        "下方的例子，使用 map 將一個字串的串列內容，分別賦值給 a 和 b 兩個變數。\n",
        "\n"
      ],
      "metadata": {
        "id": "ykH2tZP9lxIn"
      }
    },
    {
      "cell_type": "code",
      "source": [
        "t = ['12', '34']\n",
        "a, b = map(int, t) # 多重賦值\n",
        "print(a)    # 12\n",
        "print(b)    # 34"
      ],
      "metadata": {
        "id": "tkuy9vhvmHPu"
      },
      "execution_count": null,
      "outputs": []
    },
    {
      "cell_type": "markdown",
      "source": [
        "# **搭配 filter 方法**"
      ],
      "metadata": {
        "id": "h1JxtHlymg4C"
      }
    },
    {
      "cell_type": "markdown",
      "source": [
        "下方的程式將 lambda 函式 filter 方法搭配，filter 方法會將 True 的項目留下，所以新串列的項目都會是大於 5 的數字。( 參考：filter )"
      ],
      "metadata": {
        "id": "CgKGR5bCmlkm"
      }
    },
    {
      "cell_type": "code",
      "source": [
        "a = [1,2,3,4,5,6,7,8,9]\n",
        "b = filter(lambda x: x>5, a)\n",
        "print(list(b))    # [6, 7, 8, 9]"
      ],
      "metadata": {
        "id": "MJld5O4ImFXm"
      },
      "execution_count": null,
      "outputs": []
    },
    {
      "cell_type": "markdown",
      "source": [
        "#**filter用法**"
      ],
      "metadata": {
        "id": "qo0AF4u4mc7S"
      }
    },
    {
      "cell_type": "markdown",
      "source": [
        "##**filter(function, iter)**"
      ],
      "metadata": {
        "id": "MEM8acX6nEn0"
      }
    },
    {
      "cell_type": "markdown",
      "source": [
        "##**filter()**\n",
        "\n",
        "可以使用指定的函式，**依序判斷可迭代物件的每個項目，將判斷結果為 Ture 的物件集合成為一個全新的物件**"
      ],
      "metadata": {
        "id": "jzlFEP5BkHBK"
      }
    },
    {
      "cell_type": "markdown",
      "source": [
        "下方的程式使用了同樣效果的具名函式 a 和匿名函式 lambda，判斷 [1,2,3,4,5] 串列裡的每個項目，如果數值大於 2 就取出成為新物件，最後轉換成串列和 tuple。"
      ],
      "metadata": {
        "id": "ClVljqC5nS_5"
      }
    },
    {
      "cell_type": "code",
      "source": [
        "def a(x):\n",
        "  return x>2\n",
        "b = filter(a, [1,2,3,4,5])\n",
        "c = filter(lambda x: x>2, [1,2,3,4,5])\n",
        "\n",
        "print(list(b))    # [3, 4, 5]\n",
        "print(tuple(c))   # (3, 4, 5)"
      ],
      "metadata": {
        "colab": {
          "base_uri": "https://localhost:8080/"
        },
        "id": "GdhrED48nXO6",
        "outputId": "674d4376-ae84-40ef-a7db-cb850769bb51"
      },
      "execution_count": 6,
      "outputs": [
        {
          "output_type": "stream",
          "name": "stdout",
          "text": [
            "[3, 4, 5]\n",
            "(3, 4, 5)\n"
          ]
        }
      ]
    },
    {
      "cell_type": "markdown",
      "source": [
        "# **搭配 sorted 方法**\n",
        "下方的程式將 lambda 函式 sorted 方法搭配，當 sorted 方法設定 key 參數時，\n",
        "\n",
        "會根據 key 進行排序，所以會根據陣列中第二個項目的大小進行排序。"
      ],
      "metadata": {
        "id": "f1-s1kc_n7iE"
      }
    },
    {
      "cell_type": "code",
      "source": [
        "a = [[1,2],[4,3],[5,1],[9,2],[3,7]]\n",
        "b = sorted(a, key = lambda x: x[1]) # 比每個陣列第二個的大小並且由小排到大\n",
        "print(list(b))    # [[5, 1], [1, 2], [9, 2], [4, 3], [3, 7]]"
      ],
      "metadata": {
        "colab": {
          "base_uri": "https://localhost:8080/"
        },
        "id": "vvi_Grq-oQgs",
        "outputId": "00448904-7b88-425e-b916-6a888fc479bb"
      },
      "execution_count": 5,
      "outputs": [
        {
          "output_type": "stream",
          "name": "stdout",
          "text": [
            "[[5, 1], [1, 2], [9, 2], [4, 3], [3, 7]]\n"
          ]
        }
      ]
    },
    {
      "cell_type": "markdown",
      "source": [
        "#**sorted用法**\n",
        "sorted 可以將可迭代物件進行排序，並產生一個全新的物件。**預設由小排到大**\n",
        "\n"
      ],
      "metadata": {
        "id": "5krQZ2cJoe_O"
      }
    },
    {
      "cell_type": "markdown",
      "source": [
        "#**sorted 參數**\n",
        "![image.png](data:image/png;base64,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)"
      ],
      "metadata": {
        "id": "Fi1scGLLoxhq"
      }
    },
    {
      "cell_type": "code",
      "source": [
        "a = [1,5,3,4,2]\n",
        "b = sorted(a)\n",
        "c = sorted(a, reverse=True)\n",
        "\n",
        "print(list(b))   # [1, 2, 3, 4, 5]\n",
        "print(list(c))   # [5, 4, 3, 2, 1]"
      ],
      "metadata": {
        "colab": {
          "base_uri": "https://localhost:8080/"
        },
        "id": "FgGtHzVmoeaz",
        "outputId": "3728e79b-4a69-46f8-a411-1ee741f989cb"
      },
      "execution_count": 7,
      "outputs": [
        {
          "output_type": "stream",
          "name": "stdout",
          "text": [
            "[1, 2, 3, 4, 5]\n",
            "[5, 4, 3, 2, 1]\n"
          ]
        }
      ]
    },
    {
      "cell_type": "code",
      "source": [],
      "metadata": {
        "id": "8SGFOrfOqTVX"
      },
      "execution_count": null,
      "outputs": []
    },
    {
      "cell_type": "markdown",
      "source": [
        "# **內建函式(BIT)**\n",
        "## 好網站推薦\n",
        "https://steam.oxxostudio.tw/category/python/basic/builtin-iter-2.html#a5"
      ],
      "metadata": {
        "id": "b-KqwQ6jqW3F"
      }
    }
  ]
}