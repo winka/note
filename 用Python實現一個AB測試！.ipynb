{
 "cells": [
  {
   "cell_type": "markdown",
   "id": "dc193c5e",
   "metadata": {},
   "source": [
    "## 用Python實現一個A/B測試！"
   ]
  },
  {
   "cell_type": "markdown",
   "id": "7287edda",
   "metadata": {},
   "source": [
    "https://allaboutdataanalysis.medium.com/%E7%94%A8python%E5%81%9A%E5%80%8Ba-b%E6%B8%AC%E8%A9%A6-%E4%BD%A0%E4%B9%9F%E5%8F%AF%E4%BB%A5-631d2e4d202"
   ]
  },
  {
   "cell_type": "code",
   "execution_count": null,
   "id": "8108cf76",
   "metadata": {},
   "outputs": [],
   "source": []
  }
 ],
 "metadata": {
  "kernelspec": {
   "display_name": "Python 3 (ipykernel)",
   "language": "python",
   "name": "python3"
  },
  "language_info": {
   "codemirror_mode": {
    "name": "ipython",
    "version": 3
   },
   "file_extension": ".py",
   "mimetype": "text/x-python",
   "name": "python",
   "nbconvert_exporter": "python",
   "pygments_lexer": "ipython3",
   "version": "3.9.13"
  }
 },
 "nbformat": 4,
 "nbformat_minor": 5
}
