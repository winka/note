{
 "cells": [
  {
   "cell_type": "markdown",
   "id": "11d163f4",
   "metadata": {},
   "source": [
    "## 各類資料結構如何轉型"
   ]
  },
  {
   "cell_type": "code",
   "execution_count": 1,
   "id": "1fd0c8e3",
   "metadata": {},
   "outputs": [],
   "source": [
    "# list v\n",
    "# tuple v\n",
    "# dictionary v\n",
    "# set v\n",
    "# numpy v\n",
    "# pandas (dataframe, series) v"
   ]
  },
  {
   "cell_type": "markdown",
   "id": "b1241cc8",
   "metadata": {},
   "source": [
    "# List"
   ]
  },
  {
   "cell_type": "markdown",
   "id": "4129092b",
   "metadata": {},
   "source": [
    "## List to tuple"
   ]
  },
  {
   "cell_type": "code",
   "execution_count": 42,
   "id": "64d200ae",
   "metadata": {},
   "outputs": [
    {
     "data": {
      "text/plain": [
       "[1, 2, 3, 3]"
      ]
     },
     "execution_count": 42,
     "metadata": {},
     "output_type": "execute_result"
    }
   ],
   "source": [
    "list1 = [1,2,3,3]\n",
    "list1 "
   ]
  },
  {
   "cell_type": "code",
   "execution_count": 5,
   "id": "b728c982",
   "metadata": {},
   "outputs": [
    {
     "data": {
      "text/plain": [
       "(1, 2, 3)"
      ]
     },
     "execution_count": 5,
     "metadata": {},
     "output_type": "execute_result"
    }
   ],
   "source": [
    "tuple(list1)"
   ]
  },
  {
   "cell_type": "markdown",
   "id": "7509a531",
   "metadata": {},
   "source": [
    "## List to dictionary"
   ]
  },
  {
   "cell_type": "code",
   "execution_count": 6,
   "id": "4f4dbfc1",
   "metadata": {},
   "outputs": [
    {
     "data": {
      "text/plain": [
       "{0: 1, 1: 2, 2: 3}"
      ]
     },
     "execution_count": 6,
     "metadata": {},
     "output_type": "execute_result"
    }
   ],
   "source": [
    "dict1 ={}\n",
    "for i in range(len(list1)):\n",
    "    dict1[i] = list1[i]\n",
    "dict1"
   ]
  },
  {
   "cell_type": "code",
   "execution_count": 43,
   "id": "426da6fd",
   "metadata": {},
   "outputs": [
    {
     "data": {
      "text/plain": [
       "{0: 1, 1: 2, 2: 3, 3: 3}"
      ]
     },
     "execution_count": 43,
     "metadata": {},
     "output_type": "execute_result"
    }
   ],
   "source": [
    "dict2 = dict(enumerate(list1, 0))\n",
    "dict2"
   ]
  },
  {
   "cell_type": "markdown",
   "id": "f572cb48",
   "metadata": {},
   "source": [
    "## List to set"
   ]
  },
  {
   "cell_type": "code",
   "execution_count": 9,
   "id": "d9298284",
   "metadata": {},
   "outputs": [
    {
     "data": {
      "text/plain": [
       "{1, 2, 3}"
      ]
     },
     "execution_count": 9,
     "metadata": {},
     "output_type": "execute_result"
    }
   ],
   "source": [
    "# method 1\n",
    "# 可以轉型\n",
    "# 但重複的元素會刪除\n",
    "\n",
    "set(list1)"
   ]
  },
  {
   "cell_type": "code",
   "execution_count": 11,
   "id": "8f641ece",
   "metadata": {},
   "outputs": [
    {
     "data": {
      "text/plain": [
       "{1, 2, 3}"
      ]
     },
     "execution_count": 11,
     "metadata": {},
     "output_type": "execute_result"
    }
   ],
   "source": [
    "# method 2\n",
    "# 可以轉型\n",
    "# 但重複的元素會刪除\n",
    "m_set = set()\n",
    "for i in list1:\n",
    "    m_set.add(i)\n",
    "m_set"
   ]
  },
  {
   "cell_type": "markdown",
   "id": "9175242e",
   "metadata": {},
   "source": [
    "## List to Numpy"
   ]
  },
  {
   "cell_type": "code",
   "execution_count": 12,
   "id": "efa20929",
   "metadata": {},
   "outputs": [
    {
     "data": {
      "text/plain": [
       "array([1, 2, 3, 3])"
      ]
     },
     "execution_count": 12,
     "metadata": {},
     "output_type": "execute_result"
    }
   ],
   "source": [
    "import numpy as np \n",
    "numpy_list = np.asarray(list1)\n",
    "numpy_list"
   ]
  },
  {
   "cell_type": "markdown",
   "id": "b3d909d1",
   "metadata": {},
   "source": [
    "## List to pandas (DataFrame)"
   ]
  },
  {
   "cell_type": "code",
   "execution_count": 13,
   "id": "6b2d9784",
   "metadata": {},
   "outputs": [
    {
     "data": {
      "text/html": [
       "<div>\n",
       "<style scoped>\n",
       "    .dataframe tbody tr th:only-of-type {\n",
       "        vertical-align: middle;\n",
       "    }\n",
       "\n",
       "    .dataframe tbody tr th {\n",
       "        vertical-align: top;\n",
       "    }\n",
       "\n",
       "    .dataframe thead th {\n",
       "        text-align: right;\n",
       "    }\n",
       "</style>\n",
       "<table border=\"1\" class=\"dataframe\">\n",
       "  <thead>\n",
       "    <tr style=\"text-align: right;\">\n",
       "      <th></th>\n",
       "      <th>0</th>\n",
       "    </tr>\n",
       "  </thead>\n",
       "  <tbody>\n",
       "    <tr>\n",
       "      <th>0</th>\n",
       "      <td>1</td>\n",
       "    </tr>\n",
       "    <tr>\n",
       "      <th>1</th>\n",
       "      <td>2</td>\n",
       "    </tr>\n",
       "    <tr>\n",
       "      <th>2</th>\n",
       "      <td>3</td>\n",
       "    </tr>\n",
       "    <tr>\n",
       "      <th>3</th>\n",
       "      <td>3</td>\n",
       "    </tr>\n",
       "  </tbody>\n",
       "</table>\n",
       "</div>"
      ],
      "text/plain": [
       "   0\n",
       "0  1\n",
       "1  2\n",
       "2  3\n",
       "3  3"
      ]
     },
     "execution_count": 13,
     "metadata": {},
     "output_type": "execute_result"
    }
   ],
   "source": [
    "import pandas as pd\n",
    "\n",
    "list_dataframe = pd.DataFrame(list1)\n",
    "list_dataframe"
   ]
  },
  {
   "cell_type": "markdown",
   "id": "84ec3513",
   "metadata": {},
   "source": [
    "## List to pandas (Series)"
   ]
  },
  {
   "cell_type": "code",
   "execution_count": 14,
   "id": "a401504b",
   "metadata": {},
   "outputs": [
    {
     "data": {
      "text/plain": [
       "0    1\n",
       "1    2\n",
       "2    3\n",
       "3    3\n",
       "dtype: int64"
      ]
     },
     "execution_count": 14,
     "metadata": {},
     "output_type": "execute_result"
    }
   ],
   "source": [
    "list_series = pd.Series(list1)\n",
    "list_series"
   ]
  },
  {
   "cell_type": "markdown",
   "id": "6594b642",
   "metadata": {},
   "source": [
    "# tuple"
   ]
  },
  {
   "cell_type": "code",
   "execution_count": 45,
   "id": "a1bb2d45",
   "metadata": {},
   "outputs": [
    {
     "data": {
      "text/plain": [
       "(1, 2, 3)"
      ]
     },
     "execution_count": 45,
     "metadata": {},
     "output_type": "execute_result"
    }
   ],
   "source": [
    "tuple1 = (1,2,3)\n",
    "tuple1 "
   ]
  },
  {
   "cell_type": "markdown",
   "id": "fd6acbd2",
   "metadata": {},
   "source": [
    "## tuple to List"
   ]
  },
  {
   "cell_type": "code",
   "execution_count": 16,
   "id": "e113f344",
   "metadata": {},
   "outputs": [
    {
     "data": {
      "text/plain": [
       "[1, 2, 3]"
      ]
     },
     "execution_count": 16,
     "metadata": {},
     "output_type": "execute_result"
    }
   ],
   "source": [
    "list(tuple1)"
   ]
  },
  {
   "cell_type": "markdown",
   "id": "957b1392",
   "metadata": {},
   "source": [
    "## tuple to Dictionary"
   ]
  },
  {
   "cell_type": "code",
   "execution_count": 19,
   "id": "8efd9971",
   "metadata": {},
   "outputs": [
    {
     "data": {
      "text/plain": [
       "{0: 1, 1: 2, 2: 3}"
      ]
     },
     "execution_count": 19,
     "metadata": {},
     "output_type": "execute_result"
    }
   ],
   "source": [
    "tuple_dictionary  = {}\n",
    "for i in range(len(tuple1)):\n",
    "    tuple_dictionary[i] = tuple1[i]\n",
    "tuple_dictionary"
   ]
  },
  {
   "cell_type": "code",
   "execution_count": 46,
   "id": "52e55dd5",
   "metadata": {},
   "outputs": [
    {
     "data": {
      "text/plain": [
       "{0: 1, 1: 2, 2: 3}"
      ]
     },
     "execution_count": 46,
     "metadata": {},
     "output_type": "execute_result"
    }
   ],
   "source": [
    "tuple_dictionary = dict(enumerate(tuple1,0))\n",
    "tuple_dictionary"
   ]
  },
  {
   "cell_type": "markdown",
   "id": "282b704c",
   "metadata": {},
   "source": [
    "## tuple to set"
   ]
  },
  {
   "cell_type": "code",
   "execution_count": 20,
   "id": "8d44d52e",
   "metadata": {},
   "outputs": [
    {
     "data": {
      "text/plain": [
       "{1, 2, 3}"
      ]
     },
     "execution_count": 20,
     "metadata": {},
     "output_type": "execute_result"
    }
   ],
   "source": [
    "set(tuple1)"
   ]
  },
  {
   "cell_type": "markdown",
   "id": "8336f6ee",
   "metadata": {},
   "source": [
    "## tuple to numpy(array)"
   ]
  },
  {
   "cell_type": "code",
   "execution_count": 21,
   "id": "5f378b36",
   "metadata": {},
   "outputs": [
    {
     "data": {
      "text/plain": [
       "array([1, 2, 3])"
      ]
     },
     "execution_count": 21,
     "metadata": {},
     "output_type": "execute_result"
    }
   ],
   "source": [
    "import numpy as np\n",
    "tuple_to_numpy = np.array(tuple1)\n",
    "tuple_to_numpy"
   ]
  },
  {
   "cell_type": "markdown",
   "id": "c1f2b109",
   "metadata": {},
   "source": [
    "## Tuple to pandas (DataFrame)"
   ]
  },
  {
   "cell_type": "code",
   "execution_count": 22,
   "id": "2a8930f7",
   "metadata": {},
   "outputs": [
    {
     "data": {
      "text/html": [
       "<div>\n",
       "<style scoped>\n",
       "    .dataframe tbody tr th:only-of-type {\n",
       "        vertical-align: middle;\n",
       "    }\n",
       "\n",
       "    .dataframe tbody tr th {\n",
       "        vertical-align: top;\n",
       "    }\n",
       "\n",
       "    .dataframe thead th {\n",
       "        text-align: right;\n",
       "    }\n",
       "</style>\n",
       "<table border=\"1\" class=\"dataframe\">\n",
       "  <thead>\n",
       "    <tr style=\"text-align: right;\">\n",
       "      <th></th>\n",
       "      <th>0</th>\n",
       "    </tr>\n",
       "  </thead>\n",
       "  <tbody>\n",
       "    <tr>\n",
       "      <th>0</th>\n",
       "      <td>1</td>\n",
       "    </tr>\n",
       "    <tr>\n",
       "      <th>1</th>\n",
       "      <td>2</td>\n",
       "    </tr>\n",
       "    <tr>\n",
       "      <th>2</th>\n",
       "      <td>3</td>\n",
       "    </tr>\n",
       "  </tbody>\n",
       "</table>\n",
       "</div>"
      ],
      "text/plain": [
       "   0\n",
       "0  1\n",
       "1  2\n",
       "2  3"
      ]
     },
     "execution_count": 22,
     "metadata": {},
     "output_type": "execute_result"
    }
   ],
   "source": [
    "import pandas as pd\n",
    "Tuple_to_Dataframe = pd.DataFrame(tuple1)\n",
    "Tuple_to_Dataframe"
   ]
  },
  {
   "cell_type": "markdown",
   "id": "88d62370",
   "metadata": {},
   "source": [
    "## Tuple to pandas (Series)"
   ]
  },
  {
   "cell_type": "code",
   "execution_count": 24,
   "id": "c310644e",
   "metadata": {},
   "outputs": [
    {
     "data": {
      "text/plain": [
       "0    1\n",
       "1    2\n",
       "2    3\n",
       "dtype: int64"
      ]
     },
     "execution_count": 24,
     "metadata": {},
     "output_type": "execute_result"
    }
   ],
   "source": [
    "import pandas as pd\n",
    "Tuple_to_Series = pd.Series(tuple1)\n",
    "Tuple_to_Series"
   ]
  },
  {
   "cell_type": "markdown",
   "id": "b14a0a11",
   "metadata": {},
   "source": [
    "# Dictionary"
   ]
  },
  {
   "cell_type": "markdown",
   "id": "749a65d3",
   "metadata": {},
   "source": [
    "## Dictionary to tuple"
   ]
  },
  {
   "cell_type": "code",
   "execution_count": 25,
   "id": "4b49fe6a",
   "metadata": {},
   "outputs": [
    {
     "data": {
      "text/plain": [
       "(1, 2, 3)"
      ]
     },
     "execution_count": 25,
     "metadata": {},
     "output_type": "execute_result"
    }
   ],
   "source": [
    "dict1={1:'1', 2:'2',3:'3'}\n",
    "\n",
    "tuple(dict1)"
   ]
  },
  {
   "cell_type": "markdown",
   "id": "52527fe1",
   "metadata": {},
   "source": [
    "## Dictionary to List"
   ]
  },
  {
   "cell_type": "code",
   "execution_count": 26,
   "id": "a82600e0",
   "metadata": {},
   "outputs": [
    {
     "data": {
      "text/plain": [
       "[1, 2, 3]"
      ]
     },
     "execution_count": 26,
     "metadata": {},
     "output_type": "execute_result"
    }
   ],
   "source": [
    "list(dict1)"
   ]
  },
  {
   "cell_type": "markdown",
   "id": "ba9df40a",
   "metadata": {},
   "source": [
    "## Dictionary to set\n"
   ]
  },
  {
   "cell_type": "code",
   "execution_count": 27,
   "id": "12a690e5",
   "metadata": {},
   "outputs": [
    {
     "data": {
      "text/plain": [
       "{1, 2, 3}"
      ]
     },
     "execution_count": 27,
     "metadata": {},
     "output_type": "execute_result"
    }
   ],
   "source": [
    "set(dict1)"
   ]
  },
  {
   "cell_type": "markdown",
   "id": "8a14dfb4",
   "metadata": {},
   "source": [
    "## Dictionary to Numpy"
   ]
  },
  {
   "cell_type": "code",
   "execution_count": 28,
   "id": "a62e200b",
   "metadata": {},
   "outputs": [
    {
     "data": {
      "text/plain": [
       "array({1: '1', 2: '2', 3: '3'}, dtype=object)"
      ]
     },
     "execution_count": 28,
     "metadata": {},
     "output_type": "execute_result"
    }
   ],
   "source": [
    "import numpy as np \n",
    "Dictionary_to_numpy = np.array(dict1)\n",
    "Dictionary_to_numpy "
   ]
  },
  {
   "cell_type": "markdown",
   "id": "f8409589",
   "metadata": {},
   "source": [
    "## Dictionary to pandas (DataFrame)"
   ]
  },
  {
   "cell_type": "code",
   "execution_count": 37,
   "id": "3e69bb60",
   "metadata": {},
   "outputs": [
    {
     "data": {
      "text/html": [
       "<div>\n",
       "<style scoped>\n",
       "    .dataframe tbody tr th:only-of-type {\n",
       "        vertical-align: middle;\n",
       "    }\n",
       "\n",
       "    .dataframe tbody tr th {\n",
       "        vertical-align: top;\n",
       "    }\n",
       "\n",
       "    .dataframe thead th {\n",
       "        text-align: right;\n",
       "    }\n",
       "</style>\n",
       "<table border=\"1\" class=\"dataframe\">\n",
       "  <thead>\n",
       "    <tr style=\"text-align: right;\">\n",
       "      <th></th>\n",
       "      <th>0</th>\n",
       "    </tr>\n",
       "  </thead>\n",
       "  <tbody>\n",
       "    <tr>\n",
       "      <th>1</th>\n",
       "      <td>1</td>\n",
       "    </tr>\n",
       "    <tr>\n",
       "      <th>2</th>\n",
       "      <td>2</td>\n",
       "    </tr>\n",
       "    <tr>\n",
       "      <th>3</th>\n",
       "      <td>3</td>\n",
       "    </tr>\n",
       "  </tbody>\n",
       "</table>\n",
       "</div>"
      ],
      "text/plain": [
       "   0\n",
       "1  1\n",
       "2  2\n",
       "3  3"
      ]
     },
     "execution_count": 37,
     "metadata": {},
     "output_type": "execute_result"
    }
   ],
   "source": [
    "import pandas as pd \n",
    "#　dict1 取出 values \n",
    "#　dict1 取出 keys \n",
    "Dictionary_to_Dataframe = pd.DataFrame(dict1.values(), index=dict1.keys())\n",
    "Dictionary_to_Dataframe "
   ]
  },
  {
   "cell_type": "markdown",
   "id": "5eac17d3",
   "metadata": {},
   "source": [
    "## Dictionary to pandas (Series)"
   ]
  },
  {
   "cell_type": "code",
   "execution_count": 38,
   "id": "79cd196f",
   "metadata": {},
   "outputs": [
    {
     "data": {
      "text/plain": [
       "1    1\n",
       "2    2\n",
       "3    3\n",
       "dtype: object"
      ]
     },
     "execution_count": 38,
     "metadata": {},
     "output_type": "execute_result"
    }
   ],
   "source": [
    "import pandas as pd \n",
    "#　dict1 取出 values \n",
    "#　dict1 取出 keys \n",
    "Dictionary_to_Series = pd.Series(dict1.values(), index=dict1.keys())\n",
    "Dictionary_to_Series "
   ]
  },
  {
   "cell_type": "markdown",
   "id": "e6ab82df",
   "metadata": {},
   "source": [
    "# Set"
   ]
  },
  {
   "cell_type": "code",
   "execution_count": 4,
   "id": "8b820429",
   "metadata": {},
   "outputs": [
    {
     "data": {
      "text/plain": [
       "{1, 2, 3, 4, 5}"
      ]
     },
     "execution_count": 4,
     "metadata": {},
     "output_type": "execute_result"
    }
   ],
   "source": [
    "set1 = set([1,2,3,4,5])\n",
    "set1"
   ]
  },
  {
   "cell_type": "markdown",
   "id": "d8e3f79e",
   "metadata": {},
   "source": [
    "## Set to Dictionary"
   ]
  },
  {
   "cell_type": "code",
   "execution_count": 7,
   "id": "e874a3fa",
   "metadata": {},
   "outputs": [],
   "source": [
    "# 集合是无序的, 不重复的数据类型;\n",
    "# 因此不支持索引,也不支持切片;也不支持重复;也不支持连接;\n",
    "# 因此無法將set全部元素加入 dictionary"
   ]
  },
  {
   "cell_type": "markdown",
   "id": "84d9cd96",
   "metadata": {},
   "source": [
    "## Set to tuple"
   ]
  },
  {
   "cell_type": "code",
   "execution_count": 8,
   "id": "e98b5892",
   "metadata": {},
   "outputs": [
    {
     "data": {
      "text/plain": [
       "(1, 2, 3, 4, 5)"
      ]
     },
     "execution_count": 8,
     "metadata": {},
     "output_type": "execute_result"
    }
   ],
   "source": [
    "tuple(set1)"
   ]
  },
  {
   "cell_type": "markdown",
   "id": "e97d596e",
   "metadata": {},
   "source": [
    "## Set to Numpy"
   ]
  },
  {
   "cell_type": "code",
   "execution_count": 9,
   "id": "c7215eb5",
   "metadata": {},
   "outputs": [
    {
     "data": {
      "text/plain": [
       "array({1, 2, 3, 4, 5}, dtype=object)"
      ]
     },
     "execution_count": 9,
     "metadata": {},
     "output_type": "execute_result"
    }
   ],
   "source": [
    "import numpy as np \n",
    "Set_to_Numpy = np.array(set1)\n",
    "Set_to_Numpy"
   ]
  },
  {
   "cell_type": "markdown",
   "id": "2eb5acfc",
   "metadata": {},
   "source": [
    "## Set to pandas (DataFrame)\n"
   ]
  },
  {
   "cell_type": "code",
   "execution_count": 10,
   "id": "42d860a5",
   "metadata": {},
   "outputs": [
    {
     "data": {
      "text/html": [
       "<div>\n",
       "<style scoped>\n",
       "    .dataframe tbody tr th:only-of-type {\n",
       "        vertical-align: middle;\n",
       "    }\n",
       "\n",
       "    .dataframe tbody tr th {\n",
       "        vertical-align: top;\n",
       "    }\n",
       "\n",
       "    .dataframe thead th {\n",
       "        text-align: right;\n",
       "    }\n",
       "</style>\n",
       "<table border=\"1\" class=\"dataframe\">\n",
       "  <thead>\n",
       "    <tr style=\"text-align: right;\">\n",
       "      <th></th>\n",
       "      <th>0</th>\n",
       "    </tr>\n",
       "  </thead>\n",
       "  <tbody>\n",
       "    <tr>\n",
       "      <th>0</th>\n",
       "      <td>1</td>\n",
       "    </tr>\n",
       "    <tr>\n",
       "      <th>1</th>\n",
       "      <td>2</td>\n",
       "    </tr>\n",
       "    <tr>\n",
       "      <th>2</th>\n",
       "      <td>3</td>\n",
       "    </tr>\n",
       "    <tr>\n",
       "      <th>3</th>\n",
       "      <td>4</td>\n",
       "    </tr>\n",
       "    <tr>\n",
       "      <th>4</th>\n",
       "      <td>5</td>\n",
       "    </tr>\n",
       "  </tbody>\n",
       "</table>\n",
       "</div>"
      ],
      "text/plain": [
       "   0\n",
       "0  1\n",
       "1  2\n",
       "2  3\n",
       "3  4\n",
       "4  5"
      ]
     },
     "execution_count": 10,
     "metadata": {},
     "output_type": "execute_result"
    }
   ],
   "source": [
    "import pandas as pd \n",
    "Set_to_pandas1 = pd.DataFrame(set1)\n",
    "Set_to_pandas1"
   ]
  },
  {
   "cell_type": "markdown",
   "id": "e42e7be7",
   "metadata": {},
   "source": [
    "## Set to pandas (Series)"
   ]
  },
  {
   "cell_type": "code",
   "execution_count": 13,
   "id": "81074ac1",
   "metadata": {},
   "outputs": [
    {
     "ename": "TypeError",
     "evalue": "'set' type is unordered",
     "output_type": "error",
     "traceback": [
      "\u001b[1;31m---------------------------------------------------------------------------\u001b[0m",
      "\u001b[1;31mTypeError\u001b[0m                                 Traceback (most recent call last)",
      "\u001b[1;32m<ipython-input-13-f9bea8fad3b9>\u001b[0m in \u001b[0;36m<module>\u001b[1;34m\u001b[0m\n\u001b[1;32m----> 1\u001b[1;33m \u001b[0mSet_to_pandas2\u001b[0m \u001b[1;33m=\u001b[0m \u001b[0mpd\u001b[0m\u001b[1;33m.\u001b[0m\u001b[0mSeries\u001b[0m\u001b[1;33m(\u001b[0m\u001b[0mset1\u001b[0m\u001b[1;33m,\u001b[0m\u001b[0mindex\u001b[0m\u001b[1;33m=\u001b[0m\u001b[1;33m[\u001b[0m\u001b[1;36m1\u001b[0m\u001b[1;33m,\u001b[0m\u001b[1;36m2\u001b[0m\u001b[1;33m,\u001b[0m\u001b[1;36m3\u001b[0m\u001b[1;33m,\u001b[0m\u001b[1;36m4\u001b[0m\u001b[1;33m,\u001b[0m\u001b[1;36m5\u001b[0m\u001b[1;33m]\u001b[0m\u001b[1;33m)\u001b[0m\u001b[1;33m\u001b[0m\u001b[1;33m\u001b[0m\u001b[0m\n\u001b[0m\u001b[0;32m      2\u001b[0m \u001b[0mSet_to_pandas2\u001b[0m\u001b[1;33m\u001b[0m\u001b[1;33m\u001b[0m\u001b[0m\n",
      "\u001b[1;32m~\\anaconda3\\lib\\site-packages\\pandas\\core\\series.py\u001b[0m in \u001b[0;36m__init__\u001b[1;34m(self, data, index, dtype, name, copy, fastpath)\u001b[0m\n\u001b[0;32m    334\u001b[0m                 \u001b[1;32mpass\u001b[0m\u001b[1;33m\u001b[0m\u001b[1;33m\u001b[0m\u001b[0m\n\u001b[0;32m    335\u001b[0m             \u001b[1;32melif\u001b[0m \u001b[0misinstance\u001b[0m\u001b[1;33m(\u001b[0m\u001b[0mdata\u001b[0m\u001b[1;33m,\u001b[0m \u001b[1;33m(\u001b[0m\u001b[0mset\u001b[0m\u001b[1;33m,\u001b[0m \u001b[0mfrozenset\u001b[0m\u001b[1;33m)\u001b[0m\u001b[1;33m)\u001b[0m\u001b[1;33m:\u001b[0m\u001b[1;33m\u001b[0m\u001b[1;33m\u001b[0m\u001b[0m\n\u001b[1;32m--> 336\u001b[1;33m                 \u001b[1;32mraise\u001b[0m \u001b[0mTypeError\u001b[0m\u001b[1;33m(\u001b[0m\u001b[1;34mf\"'{type(data).__name__}' type is unordered\"\u001b[0m\u001b[1;33m)\u001b[0m\u001b[1;33m\u001b[0m\u001b[1;33m\u001b[0m\u001b[0m\n\u001b[0m\u001b[0;32m    337\u001b[0m             \u001b[1;32melse\u001b[0m\u001b[1;33m:\u001b[0m\u001b[1;33m\u001b[0m\u001b[1;33m\u001b[0m\u001b[0m\n\u001b[0;32m    338\u001b[0m                 \u001b[0mdata\u001b[0m \u001b[1;33m=\u001b[0m \u001b[0mcom\u001b[0m\u001b[1;33m.\u001b[0m\u001b[0mmaybe_iterable_to_list\u001b[0m\u001b[1;33m(\u001b[0m\u001b[0mdata\u001b[0m\u001b[1;33m)\u001b[0m\u001b[1;33m\u001b[0m\u001b[1;33m\u001b[0m\u001b[0m\n",
      "\u001b[1;31mTypeError\u001b[0m: 'set' type is unordered"
     ]
    }
   ],
   "source": [
    "Set_to_pandas2 = pd.Series(set1,index=[1,2,3,4,5])\n",
    "Set_to_pandas2\n",
    "# TypeError: 'set' type is unordered"
   ]
  },
  {
   "cell_type": "markdown",
   "id": "0b17d7d8",
   "metadata": {},
   "source": [
    "# Numpy"
   ]
  },
  {
   "cell_type": "code",
   "execution_count": 30,
   "id": "d8493e43",
   "metadata": {},
   "outputs": [
    {
     "data": {
      "text/plain": [
       "array([1, 2, 3, 4, 5])"
      ]
     },
     "execution_count": 30,
     "metadata": {},
     "output_type": "execute_result"
    }
   ],
   "source": [
    "import numpy as np \n",
    "np_array = np.array([1,2,3,4,5])\n",
    "np_array"
   ]
  },
  {
   "cell_type": "markdown",
   "id": "8527158c",
   "metadata": {},
   "source": [
    "## numpy array to list"
   ]
  },
  {
   "cell_type": "code",
   "execution_count": 31,
   "id": "05e61a93",
   "metadata": {},
   "outputs": [
    {
     "data": {
      "text/plain": [
       "[1, 2, 3, 4, 5]"
      ]
     },
     "execution_count": 31,
     "metadata": {},
     "output_type": "execute_result"
    }
   ],
   "source": [
    "list(np_array)"
   ]
  },
  {
   "cell_type": "markdown",
   "id": "2ec9e4f1",
   "metadata": {},
   "source": [
    "## numpy array to dictionary"
   ]
  },
  {
   "cell_type": "code",
   "execution_count": 36,
   "id": "a4e96e1a",
   "metadata": {},
   "outputs": [
    {
     "data": {
      "text/plain": [
       "{1: 1, 2: 2, 3: 3, 4: 4, 5: 5}"
      ]
     },
     "execution_count": 36,
     "metadata": {},
     "output_type": "execute_result"
    }
   ],
   "source": [
    "# enumerate(sequence, start=1)\n",
    "# 回傳元素以及元素所在座標\n",
    "# default: start = 1 回傳座標的起始位置 \n",
    "numpydictionary= dict(enumerate(np_array.flatten(),1))\n",
    "numpydictionary   "
   ]
  },
  {
   "cell_type": "code",
   "execution_count": null,
   "id": "40809208",
   "metadata": {},
   "outputs": [],
   "source": [
    "# ndarray.flatten(order='C')\n",
    "# Return a copy of the array collapsed into one dimension."
   ]
  },
  {
   "cell_type": "markdown",
   "id": "6e217bd5",
   "metadata": {},
   "source": [
    "## numpy array to tuple"
   ]
  },
  {
   "cell_type": "code",
   "execution_count": 37,
   "id": "bec7783e",
   "metadata": {},
   "outputs": [
    {
     "data": {
      "text/plain": [
       "(1, 2, 3, 4, 5)"
      ]
     },
     "execution_count": 37,
     "metadata": {},
     "output_type": "execute_result"
    }
   ],
   "source": [
    "tuple(np_array)"
   ]
  },
  {
   "cell_type": "markdown",
   "id": "0c52f93f",
   "metadata": {},
   "source": [
    "## numpy array to set"
   ]
  },
  {
   "cell_type": "code",
   "execution_count": 38,
   "id": "b6d915e0",
   "metadata": {},
   "outputs": [
    {
     "data": {
      "text/plain": [
       "{1, 2, 3, 4, 5}"
      ]
     },
     "execution_count": 38,
     "metadata": {},
     "output_type": "execute_result"
    }
   ],
   "source": [
    "set(np_array)"
   ]
  },
  {
   "cell_type": "markdown",
   "id": "afca74a4",
   "metadata": {},
   "source": [
    "## numpy array to Pandas(DataFrame)"
   ]
  },
  {
   "cell_type": "code",
   "execution_count": 39,
   "id": "57838f5d",
   "metadata": {},
   "outputs": [
    {
     "data": {
      "text/html": [
       "<div>\n",
       "<style scoped>\n",
       "    .dataframe tbody tr th:only-of-type {\n",
       "        vertical-align: middle;\n",
       "    }\n",
       "\n",
       "    .dataframe tbody tr th {\n",
       "        vertical-align: top;\n",
       "    }\n",
       "\n",
       "    .dataframe thead th {\n",
       "        text-align: right;\n",
       "    }\n",
       "</style>\n",
       "<table border=\"1\" class=\"dataframe\">\n",
       "  <thead>\n",
       "    <tr style=\"text-align: right;\">\n",
       "      <th></th>\n",
       "      <th>0</th>\n",
       "    </tr>\n",
       "  </thead>\n",
       "  <tbody>\n",
       "    <tr>\n",
       "      <th>0</th>\n",
       "      <td>1</td>\n",
       "    </tr>\n",
       "    <tr>\n",
       "      <th>1</th>\n",
       "      <td>2</td>\n",
       "    </tr>\n",
       "    <tr>\n",
       "      <th>2</th>\n",
       "      <td>3</td>\n",
       "    </tr>\n",
       "    <tr>\n",
       "      <th>3</th>\n",
       "      <td>4</td>\n",
       "    </tr>\n",
       "    <tr>\n",
       "      <th>4</th>\n",
       "      <td>5</td>\n",
       "    </tr>\n",
       "  </tbody>\n",
       "</table>\n",
       "</div>"
      ],
      "text/plain": [
       "   0\n",
       "0  1\n",
       "1  2\n",
       "2  3\n",
       "3  4\n",
       "4  5"
      ]
     },
     "execution_count": 39,
     "metadata": {},
     "output_type": "execute_result"
    }
   ],
   "source": [
    "array_Dataframe = pd.DataFrame(np_array)\n",
    "array_Dataframe"
   ]
  },
  {
   "cell_type": "markdown",
   "id": "38559f27",
   "metadata": {},
   "source": [
    "## numpy array to Pandas(Series)"
   ]
  },
  {
   "cell_type": "code",
   "execution_count": 40,
   "id": "12bbf0d6",
   "metadata": {},
   "outputs": [
    {
     "data": {
      "text/plain": [
       "0    1\n",
       "1    2\n",
       "2    3\n",
       "3    4\n",
       "4    5\n",
       "dtype: int32"
      ]
     },
     "execution_count": 40,
     "metadata": {},
     "output_type": "execute_result"
    }
   ],
   "source": [
    "array_series = pd.Series(np_array)\n",
    "array_series "
   ]
  },
  {
   "cell_type": "markdown",
   "id": "93b4f812",
   "metadata": {},
   "source": [
    "# Pandas(DataFrame)"
   ]
  },
  {
   "cell_type": "markdown",
   "id": "e2f4ce14",
   "metadata": {},
   "source": [
    "## Pandas(DataFrame) to list"
   ]
  },
  {
   "cell_type": "code",
   "execution_count": 3,
   "id": "ac1562dc",
   "metadata": {},
   "outputs": [
    {
     "data": {
      "text/html": [
       "<div>\n",
       "<style scoped>\n",
       "    .dataframe tbody tr th:only-of-type {\n",
       "        vertical-align: middle;\n",
       "    }\n",
       "\n",
       "    .dataframe tbody tr th {\n",
       "        vertical-align: top;\n",
       "    }\n",
       "\n",
       "    .dataframe thead th {\n",
       "        text-align: right;\n",
       "    }\n",
       "</style>\n",
       "<table border=\"1\" class=\"dataframe\">\n",
       "  <thead>\n",
       "    <tr style=\"text-align: right;\">\n",
       "      <th></th>\n",
       "      <th>col1</th>\n",
       "      <th>col2</th>\n",
       "    </tr>\n",
       "  </thead>\n",
       "  <tbody>\n",
       "    <tr>\n",
       "      <th>0</th>\n",
       "      <td>1</td>\n",
       "      <td>3</td>\n",
       "    </tr>\n",
       "    <tr>\n",
       "      <th>1</th>\n",
       "      <td>2</td>\n",
       "      <td>4</td>\n",
       "    </tr>\n",
       "  </tbody>\n",
       "</table>\n",
       "</div>"
      ],
      "text/plain": [
       "   col1  col2\n",
       "0     1     3\n",
       "1     2     4"
      ]
     },
     "execution_count": 3,
     "metadata": {},
     "output_type": "execute_result"
    }
   ],
   "source": [
    "d = {'col1': [1, 2], 'col2': [3, 4]}\n",
    "df = pd.DataFrame(data=d)\n",
    "df"
   ]
  },
  {
   "cell_type": "code",
   "execution_count": 50,
   "id": "583448a2",
   "metadata": {},
   "outputs": [
    {
     "data": {
      "text/plain": [
       "[[1, 3], [2, 4]]"
      ]
     },
     "execution_count": 50,
     "metadata": {},
     "output_type": "execute_result"
    }
   ],
   "source": [
    "df_tolist = []\n",
    "for i in range(2):\n",
    "    df_tolist.append(df.iloc[i][:].to_list())\n",
    "df_tolist"
   ]
  },
  {
   "cell_type": "markdown",
   "id": "3ab2b8d7",
   "metadata": {},
   "source": [
    "## Pandas(DataFrame) to set"
   ]
  },
  {
   "cell_type": "code",
   "execution_count": 60,
   "id": "be6345d2",
   "metadata": {},
   "outputs": [
    {
     "data": {
      "text/plain": [
       "{1, 2, 3, 4}"
      ]
     },
     "execution_count": 60,
     "metadata": {},
     "output_type": "execute_result"
    }
   ],
   "source": [
    "Dataframe_toset = set()\n",
    "for i in range(2):\n",
    "    for j in range(2):\n",
    "        Dataframe_toset.add(df.iloc[i][j])\n",
    "Dataframe_toset"
   ]
  },
  {
   "cell_type": "code",
   "execution_count": 24,
   "id": "2235d0bb",
   "metadata": {},
   "outputs": [
    {
     "data": {
      "text/html": [
       "<div>\n",
       "<style scoped>\n",
       "    .dataframe tbody tr th:only-of-type {\n",
       "        vertical-align: middle;\n",
       "    }\n",
       "\n",
       "    .dataframe tbody tr th {\n",
       "        vertical-align: top;\n",
       "    }\n",
       "\n",
       "    .dataframe thead th {\n",
       "        text-align: right;\n",
       "    }\n",
       "</style>\n",
       "<table border=\"1\" class=\"dataframe\">\n",
       "  <thead>\n",
       "    <tr style=\"text-align: right;\">\n",
       "      <th></th>\n",
       "      <th>col1</th>\n",
       "      <th>col2</th>\n",
       "    </tr>\n",
       "  </thead>\n",
       "  <tbody>\n",
       "    <tr>\n",
       "      <th>0</th>\n",
       "      <td>1</td>\n",
       "      <td>3</td>\n",
       "    </tr>\n",
       "    <tr>\n",
       "      <th>1</th>\n",
       "      <td>2</td>\n",
       "      <td>4</td>\n",
       "    </tr>\n",
       "  </tbody>\n",
       "</table>\n",
       "</div>"
      ],
      "text/plain": [
       "   col1  col2\n",
       "0     1     3\n",
       "1     2     4"
      ]
     },
     "execution_count": 24,
     "metadata": {},
     "output_type": "execute_result"
    }
   ],
   "source": [
    "df.loc[:,:]"
   ]
  },
  {
   "cell_type": "markdown",
   "id": "46cde40c",
   "metadata": {},
   "source": [
    "## Pandas(DataFrame) to tuple"
   ]
  },
  {
   "cell_type": "code",
   "execution_count": 26,
   "id": "18e90255",
   "metadata": {},
   "outputs": [
    {
     "data": {
      "text/plain": [
       "(2, 4)"
      ]
     },
     "execution_count": 26,
     "metadata": {},
     "output_type": "execute_result"
    }
   ],
   "source": [
    "DataFrame_totuple = tuple()\n",
    "tuple(df.loc[1,:])\n",
    "# 好像不行"
   ]
  },
  {
   "cell_type": "markdown",
   "id": "39de45a1",
   "metadata": {},
   "source": [
    "## Pandas(DataFrame) to dictionary"
   ]
  },
  {
   "cell_type": "code",
   "execution_count": 4,
   "id": "adb6ee51",
   "metadata": {},
   "outputs": [
    {
     "data": {
      "text/plain": [
       "{'col1': {0: 1, 1: 2}, 'col2': {0: 3, 1: 4}}"
      ]
     },
     "execution_count": 4,
     "metadata": {},
     "output_type": "execute_result"
    }
   ],
   "source": [
    "import pandas as pd \n",
    "Dataframe_todictionary = df.to_dict(orient='dict')\n",
    "Dataframe_todictionary "
   ]
  },
  {
   "cell_type": "markdown",
   "id": "aa55bc72",
   "metadata": {},
   "source": [
    "## Pandas(DataFrame) to series"
   ]
  },
  {
   "cell_type": "code",
   "execution_count": 8,
   "id": "aed9b490",
   "metadata": {},
   "outputs": [
    {
     "data": {
      "text/plain": [
       "col1    1\n",
       "col2    3\n",
       "Name: 0, dtype: int64"
      ]
     },
     "execution_count": 8,
     "metadata": {},
     "output_type": "execute_result"
    }
   ],
   "source": [
    "# 應該只能一列一列轉\n",
    "DataFrame_toseries = pd.Series(df.iloc[0])\n",
    "DataFrame_toseries"
   ]
  },
  {
   "cell_type": "markdown",
   "id": "a5e16aad",
   "metadata": {},
   "source": [
    "# Series"
   ]
  },
  {
   "cell_type": "code",
   "execution_count": 10,
   "id": "7bc1498b",
   "metadata": {},
   "outputs": [
    {
     "data": {
      "text/plain": [
       "0    1\n",
       "1    2\n",
       "2    3\n",
       "3    4\n",
       "4    5\n",
       "dtype: int64"
      ]
     },
     "execution_count": 10,
     "metadata": {},
     "output_type": "execute_result"
    }
   ],
   "source": [
    "Series = pd.Series([1,2,3,4,5])\n",
    "Series"
   ]
  },
  {
   "cell_type": "markdown",
   "id": "20d6c129",
   "metadata": {},
   "source": [
    "## Numpy(Series) to list"
   ]
  },
  {
   "cell_type": "code",
   "execution_count": 18,
   "id": "cdb17f7c",
   "metadata": {},
   "outputs": [
    {
     "data": {
      "text/plain": [
       "[1, 2, 3, 4, 5]"
      ]
     },
     "execution_count": 18,
     "metadata": {},
     "output_type": "execute_result"
    }
   ],
   "source": [
    "Series_tolist = Series.to_list()\n",
    "Series_tolist"
   ]
  },
  {
   "cell_type": "markdown",
   "id": "181f9612",
   "metadata": {},
   "source": [
    "## Numpy(Series) to set"
   ]
  },
  {
   "cell_type": "code",
   "execution_count": 17,
   "id": "fb10b78c",
   "metadata": {},
   "outputs": [
    {
     "data": {
      "text/plain": [
       "{1, 2, 3, 4, 5}"
      ]
     },
     "execution_count": 17,
     "metadata": {},
     "output_type": "execute_result"
    }
   ],
   "source": [
    "for i in Series :\n",
    "    Series_toset.add(i) \n",
    "Series_toset"
   ]
  },
  {
   "cell_type": "code",
   "execution_count": 18,
   "id": "15aedd56",
   "metadata": {},
   "outputs": [
    {
     "ename": "TypeError",
     "evalue": "'Series' objects are mutable, thus they cannot be hashed",
     "output_type": "error",
     "traceback": [
      "\u001b[1;31m---------------------------------------------------------------------------\u001b[0m",
      "\u001b[1;31mTypeError\u001b[0m                                 Traceback (most recent call last)",
      "\u001b[1;32m<ipython-input-18-7830964f8150>\u001b[0m in \u001b[0;36m<module>\u001b[1;34m\u001b[0m\n\u001b[0;32m      1\u001b[0m \u001b[0mSeries_toset\u001b[0m \u001b[1;33m=\u001b[0m \u001b[0mset\u001b[0m\u001b[1;33m(\u001b[0m\u001b[1;33m)\u001b[0m\u001b[1;33m\u001b[0m\u001b[1;33m\u001b[0m\u001b[0m\n\u001b[1;32m----> 2\u001b[1;33m \u001b[0mSeries_toset\u001b[0m\u001b[1;33m.\u001b[0m\u001b[0madd\u001b[0m\u001b[1;33m(\u001b[0m\u001b[0mSeries\u001b[0m\u001b[1;33m)\u001b[0m\u001b[1;33m\u001b[0m\u001b[1;33m\u001b[0m\u001b[0m\n\u001b[0m",
      "\u001b[1;32m~\\anaconda3\\lib\\site-packages\\pandas\\core\\generic.py\u001b[0m in \u001b[0;36m__hash__\u001b[1;34m(self)\u001b[0m\n\u001b[0;32m   1783\u001b[0m \u001b[1;33m\u001b[0m\u001b[0m\n\u001b[0;32m   1784\u001b[0m     \u001b[1;32mdef\u001b[0m \u001b[0m__hash__\u001b[0m\u001b[1;33m(\u001b[0m\u001b[0mself\u001b[0m\u001b[1;33m)\u001b[0m \u001b[1;33m->\u001b[0m \u001b[0mint\u001b[0m\u001b[1;33m:\u001b[0m\u001b[1;33m\u001b[0m\u001b[1;33m\u001b[0m\u001b[0m\n\u001b[1;32m-> 1785\u001b[1;33m         raise TypeError(\n\u001b[0m\u001b[0;32m   1786\u001b[0m             \u001b[1;34mf\"{repr(type(self).__name__)} objects are mutable, \"\u001b[0m\u001b[1;33m\u001b[0m\u001b[1;33m\u001b[0m\u001b[0m\n\u001b[0;32m   1787\u001b[0m             \u001b[1;34mf\"thus they cannot be hashed\"\u001b[0m\u001b[1;33m\u001b[0m\u001b[1;33m\u001b[0m\u001b[0m\n",
      "\u001b[1;31mTypeError\u001b[0m: 'Series' objects are mutable, thus they cannot be hashed"
     ]
    }
   ],
   "source": [
    "# 'Series' objects are mutable, thus they cannot be hashed\n",
    "Series_toset = set()\n",
    "Series_toset.add(Series)"
   ]
  },
  {
   "cell_type": "markdown",
   "id": "a6e861e7",
   "metadata": {},
   "source": [
    "## Numpy(Series) to dictionary"
   ]
  },
  {
   "cell_type": "code",
   "execution_count": 19,
   "id": "26713107",
   "metadata": {},
   "outputs": [
    {
     "data": {
      "text/plain": [
       "{1: 1, 2: 2, 3: 3, 4: 4, 5: 5}"
      ]
     },
     "execution_count": 19,
     "metadata": {},
     "output_type": "execute_result"
    }
   ],
   "source": [
    "Series_todictionary = {}\n",
    "for i in Series:\n",
    "    Series_todictionary[i] = i\n",
    "Series_todictionary   "
   ]
  },
  {
   "cell_type": "code",
   "execution_count": 47,
   "id": "518b068f",
   "metadata": {},
   "outputs": [
    {
     "data": {
      "text/plain": [
       "{0: 1, 1: 2, 2: 3, 3: 4, 4: 5}"
      ]
     },
     "execution_count": 47,
     "metadata": {},
     "output_type": "execute_result"
    }
   ],
   "source": [
    "Series_todictionary = dict(enumerate(Series,0))\n",
    "Series_todictionary"
   ]
  },
  {
   "cell_type": "markdown",
   "id": "3350975c",
   "metadata": {},
   "source": [
    "## Numpy(Series) to tuple"
   ]
  },
  {
   "cell_type": "code",
   "execution_count": 21,
   "id": "1ba99ef6",
   "metadata": {},
   "outputs": [
    {
     "data": {
      "text/plain": [
       "(1, 2, 3, 4, 5)"
      ]
     },
     "execution_count": 21,
     "metadata": {},
     "output_type": "execute_result"
    }
   ],
   "source": [
    "Series_totuple = tuple()\n",
    "tuple(Series)"
   ]
  },
  {
   "cell_type": "markdown",
   "id": "51c13bae",
   "metadata": {},
   "source": [
    "## Numpy(Series) to DataFrame"
   ]
  },
  {
   "cell_type": "code",
   "execution_count": 28,
   "id": "d7f9c6de",
   "metadata": {},
   "outputs": [
    {
     "data": {
      "text/html": [
       "<div>\n",
       "<style scoped>\n",
       "    .dataframe tbody tr th:only-of-type {\n",
       "        vertical-align: middle;\n",
       "    }\n",
       "\n",
       "    .dataframe tbody tr th {\n",
       "        vertical-align: top;\n",
       "    }\n",
       "\n",
       "    .dataframe thead th {\n",
       "        text-align: right;\n",
       "    }\n",
       "</style>\n",
       "<table border=\"1\" class=\"dataframe\">\n",
       "  <thead>\n",
       "    <tr style=\"text-align: right;\">\n",
       "      <th></th>\n",
       "      <th>0</th>\n",
       "    </tr>\n",
       "  </thead>\n",
       "  <tbody>\n",
       "    <tr>\n",
       "      <th>0</th>\n",
       "      <td>1</td>\n",
       "    </tr>\n",
       "    <tr>\n",
       "      <th>1</th>\n",
       "      <td>2</td>\n",
       "    </tr>\n",
       "    <tr>\n",
       "      <th>2</th>\n",
       "      <td>3</td>\n",
       "    </tr>\n",
       "    <tr>\n",
       "      <th>3</th>\n",
       "      <td>4</td>\n",
       "    </tr>\n",
       "    <tr>\n",
       "      <th>4</th>\n",
       "      <td>5</td>\n",
       "    </tr>\n",
       "  </tbody>\n",
       "</table>\n",
       "</div>"
      ],
      "text/plain": [
       "   0\n",
       "0  1\n",
       "1  2\n",
       "2  3\n",
       "3  4\n",
       "4  5"
      ]
     },
     "execution_count": 28,
     "metadata": {},
     "output_type": "execute_result"
    }
   ],
   "source": [
    "Numpy_toDataFrame = pd.DataFrame(Series)\n",
    "Numpy_toDataFrame "
   ]
  }
 ],
 "metadata": {
  "kernelspec": {
   "display_name": "Python 3",
   "language": "python",
   "name": "python3"
  },
  "language_info": {
   "codemirror_mode": {
    "name": "ipython",
    "version": 3
   },
   "file_extension": ".py",
   "mimetype": "text/x-python",
   "name": "python",
   "nbconvert_exporter": "python",
   "pygments_lexer": "ipython3",
   "version": "3.8.8"
  }
 },
 "nbformat": 4,
 "nbformat_minor": 5
}
