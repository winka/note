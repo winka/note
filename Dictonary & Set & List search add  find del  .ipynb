{
 "cells": [
  {
   "cell_type": "markdown",
   "id": "9c02ff0e",
   "metadata": {},
   "source": [
    "# 字典(Dictonary)"
   ]
  },
  {
   "cell_type": "code",
   "execution_count": 13,
   "id": "c88f626f",
   "metadata": {},
   "outputs": [
    {
     "data": {
      "text/plain": [
       "['01',\n",
       " '張峻豪',\n",
       " '02',\n",
       " '黃柏元',\n",
       " '03',\n",
       " '曾鉦翔',\n",
       " '04',\n",
       " '楊為邦',\n",
       " '05',\n",
       " '彭華浚',\n",
       " '06',\n",
       " '古家宇',\n",
       " '07',\n",
       " '蘇奕',\n",
       " '08',\n",
       " '吳怡嫺',\n",
       " '09',\n",
       " '林奕彣',\n",
       " '10',\n",
       " '彭娙詞',\n",
       " '11',\n",
       " '方致堯',\n",
       " '12',\n",
       " '彭建愷',\n",
       " '13',\n",
       " '黃昱凱',\n",
       " '14',\n",
       " '張博閔',\n",
       " '15',\n",
       " '陸冠宏',\n",
       " '16',\n",
       " '龔政宇',\n",
       " '17',\n",
       " '雷子賢',\n",
       " '18',\n",
       " '郭建佑',\n",
       " '19',\n",
       " '謝金花',\n",
       " '20',\n",
       " '甘俞珺',\n",
       " '21',\n",
       " '何承恩',\n",
       " '22',\n",
       " '張家妮',\n",
       " '23',\n",
       " '余鉑涵']"
      ]
     },
     "execution_count": 13,
     "metadata": {},
     "output_type": "execute_result"
    }
   ],
   "source": [
    "f = open('尖兵.txt', 'r',encoding=\"utf-8\")\n",
    "read_data= f.read()\n",
    "f.close()\n",
    "list1 = read_data.split()\n",
    "list1 "
   ]
  },
  {
   "cell_type": "markdown",
   "id": "565cb56f",
   "metadata": {},
   "source": [
    "## List 匯入 dict (動態新增)"
   ]
  },
  {
   "cell_type": "code",
   "execution_count": 14,
   "id": "25ba3d41",
   "metadata": {},
   "outputs": [
    {
     "data": {
      "text/plain": [
       "{'01': '張峻豪',\n",
       " '02': '黃柏元',\n",
       " '03': '曾鉦翔',\n",
       " '04': '楊為邦',\n",
       " '05': '彭華浚',\n",
       " '06': '古家宇',\n",
       " '07': '蘇奕',\n",
       " '08': '吳怡嫺',\n",
       " '09': '林奕彣',\n",
       " '10': '彭娙詞',\n",
       " '11': '方致堯',\n",
       " '12': '彭建愷',\n",
       " '13': '黃昱凱',\n",
       " '14': '張博閔',\n",
       " '15': '陸冠宏',\n",
       " '16': '龔政宇',\n",
       " '17': '雷子賢',\n",
       " '18': '郭建佑',\n",
       " '19': '謝金花',\n",
       " '20': '甘俞珺',\n",
       " '21': '何承恩',\n",
       " '22': '張家妮',\n",
       " '23': '余鉑涵'}"
      ]
     },
     "execution_count": 14,
     "metadata": {},
     "output_type": "execute_result"
    }
   ],
   "source": [
    "dict1 ={}\n",
    "# 動態新增 \n",
    "for n in range(0,len(list1),2):\n",
    "    # key              value\n",
    "    dict1[list1[n]] = list1[n+1] \n",
    "dict1"
   ]
  },
  {
   "cell_type": "code",
   "execution_count": 15,
   "id": "e1286203",
   "metadata": {},
   "outputs": [
    {
     "name": "stdout",
     "output_type": "stream",
     "text": [
      "key:01,value:張峻豪\n",
      "key:02,value:黃柏元\n",
      "key:03,value:曾鉦翔\n",
      "key:04,value:楊為邦\n",
      "key:05,value:彭華浚\n",
      "key:06,value:古家宇\n",
      "key:07,value:蘇奕\n",
      "key:08,value:吳怡嫺\n",
      "key:09,value:林奕彣\n",
      "key:10,value:彭娙詞\n",
      "key:11,value:方致堯\n",
      "key:12,value:彭建愷\n",
      "key:13,value:黃昱凱\n",
      "key:14,value:張博閔\n",
      "key:15,value:陸冠宏\n",
      "key:16,value:龔政宇\n",
      "key:17,value:雷子賢\n",
      "key:18,value:郭建佑\n",
      "key:19,value:謝金花\n",
      "key:20,value:甘俞珺\n",
      "key:21,value:何承恩\n",
      "key:22,value:張家妮\n",
      "key:23,value:余鉑涵\n"
     ]
    }
   ],
   "source": [
    "## 字典跑迴圈方法 1\n",
    "for key  in dict1 :\n",
    "    print(f'key:{key},value:{dict1[key]}')"
   ]
  },
  {
   "cell_type": "code",
   "execution_count": 16,
   "id": "c2c4521b",
   "metadata": {},
   "outputs": [
    {
     "name": "stdout",
     "output_type": "stream",
     "text": [
      "value:張峻豪\n",
      "value:黃柏元\n",
      "value:曾鉦翔\n",
      "value:楊為邦\n",
      "value:彭華浚\n",
      "value:古家宇\n",
      "value:蘇奕\n",
      "value:吳怡嫺\n",
      "value:林奕彣\n",
      "value:彭娙詞\n",
      "value:方致堯\n",
      "value:彭建愷\n",
      "value:黃昱凱\n",
      "value:張博閔\n",
      "value:陸冠宏\n",
      "value:龔政宇\n",
      "value:雷子賢\n",
      "value:郭建佑\n",
      "value:謝金花\n",
      "value:甘俞珺\n",
      "value:何承恩\n",
      "value:張家妮\n",
      "value:余鉑涵\n"
     ]
    }
   ],
   "source": [
    "## 字典跑迴圈方法 2\n",
    "for values  in dict1.values() :\n",
    "    print(f'value:{values}')"
   ]
  },
  {
   "cell_type": "code",
   "execution_count": 17,
   "id": "8a54d33e",
   "metadata": {},
   "outputs": [
    {
     "name": "stdout",
     "output_type": "stream",
     "text": [
      "dict1[key]\n",
      "dict1[key]\n",
      "dict1[key]\n",
      "dict1[key]\n",
      "dict1[key]\n",
      "dict1[key]\n",
      "dict1[key]\n",
      "dict1[key]\n",
      "dict1[key]\n",
      "dict1[key]\n",
      "dict1[key]\n",
      "dict1[key]\n",
      "dict1[key]\n",
      "dict1[key]\n",
      "dict1[key]\n",
      "dict1[key]\n",
      "dict1[key]\n",
      "dict1[key]\n",
      "dict1[key]\n",
      "dict1[key]\n",
      "dict1[key]\n",
      "dict1[key]\n",
      "dict1[key]\n"
     ]
    }
   ],
   "source": [
    "## 字典跑迴圈方法 3 結果與方法 1 相同\n",
    "for key in dict1.keys():\n",
    "    print(f'dict1[key]')"
   ]
  },
  {
   "cell_type": "code",
   "execution_count": 18,
   "id": "19eeb0cd",
   "metadata": {},
   "outputs": [
    {
     "name": "stdout",
     "output_type": "stream",
     "text": [
      "key:01,value:張峻豪\n",
      "key:02,value:黃柏元\n",
      "key:03,value:曾鉦翔\n",
      "key:04,value:楊為邦\n",
      "key:05,value:彭華浚\n",
      "key:06,value:古家宇\n",
      "key:07,value:蘇奕\n",
      "key:08,value:吳怡嫺\n",
      "key:09,value:林奕彣\n",
      "key:10,value:彭娙詞\n",
      "key:11,value:方致堯\n",
      "key:12,value:彭建愷\n",
      "key:13,value:黃昱凱\n",
      "key:14,value:張博閔\n",
      "key:15,value:陸冠宏\n",
      "key:16,value:龔政宇\n",
      "key:17,value:雷子賢\n",
      "key:18,value:郭建佑\n",
      "key:19,value:謝金花\n",
      "key:20,value:甘俞珺\n",
      "key:21,value:何承恩\n",
      "key:22,value:張家妮\n",
      "key:23,value:余鉑涵\n"
     ]
    }
   ],
   "source": [
    "## 字典跑迴圈方法 4\n",
    "# 最常使用的方法\n",
    "# items()可以同時傳出 key & value\n",
    "for key,value in dict1.items():\n",
    "    print(f'key:{key},value:{value}')"
   ]
  },
  {
   "cell_type": "markdown",
   "id": "4bbb2b43",
   "metadata": {},
   "source": [
    "# dict 不能重複key"
   ]
  },
  {
   "cell_type": "code",
   "execution_count": 19,
   "id": "f1b9d351",
   "metadata": {},
   "outputs": [
    {
     "data": {
      "text/plain": [
       "{1: '234', 2: '789'}"
      ]
     },
     "execution_count": 19,
     "metadata": {},
     "output_type": "execute_result"
    }
   ],
   "source": [
    "dict1 = {1:'234',2:'123',2:'789'}\n",
    "dict1 \n"
   ]
  },
  {
   "cell_type": "markdown",
   "id": "0e9a6800",
   "metadata": {},
   "source": [
    "## dict key 可以是 str num tuple 三種型態"
   ]
  },
  {
   "cell_type": "code",
   "execution_count": 20,
   "id": "5f08e3d2",
   "metadata": {},
   "outputs": [
    {
     "data": {
      "text/plain": [
       "{'1': '234', 2: '123', (2, 3, 4): '789'}"
      ]
     },
     "execution_count": 20,
     "metadata": {},
     "output_type": "execute_result"
    }
   ],
   "source": [
    "dict1 = {'1':'234',2:'123',(2,3,4):'789'}\n",
    "dict1 "
   ]
  },
  {
   "cell_type": "markdown",
   "id": "64e1b820",
   "metadata": {},
   "source": [
    "## dict 常用函式"
   ]
  },
  {
   "cell_type": "code",
   "execution_count": 24,
   "id": "cfb7b6b5",
   "metadata": {
    "scrolled": false
   },
   "outputs": [
    {
     "data": {
      "text/plain": [
       "['__class__',\n",
       " '__class_getitem__',\n",
       " '__contains__',\n",
       " '__delattr__',\n",
       " '__delitem__',\n",
       " '__dir__',\n",
       " '__doc__',\n",
       " '__eq__',\n",
       " '__format__',\n",
       " '__ge__',\n",
       " '__getattribute__',\n",
       " '__getitem__',\n",
       " '__gt__',\n",
       " '__hash__',\n",
       " '__init__',\n",
       " '__init_subclass__',\n",
       " '__ior__',\n",
       " '__iter__',\n",
       " '__le__',\n",
       " '__len__',\n",
       " '__lt__',\n",
       " '__ne__',\n",
       " '__new__',\n",
       " '__or__',\n",
       " '__reduce__',\n",
       " '__reduce_ex__',\n",
       " '__repr__',\n",
       " '__reversed__',\n",
       " '__ror__',\n",
       " '__setattr__',\n",
       " '__setitem__',\n",
       " '__sizeof__',\n",
       " '__str__',\n",
       " '__subclasshook__',\n",
       " 'clear',\n",
       " 'copy',\n",
       " 'fromkeys',\n",
       " 'get',\n",
       " 'items',\n",
       " 'keys',\n",
       " 'pop',\n",
       " 'popitem',\n",
       " 'setdefault',\n",
       " 'update',\n",
       " 'values']"
      ]
     },
     "execution_count": 24,
     "metadata": {},
     "output_type": "execute_result"
    }
   ],
   "source": [
    "dir(dict)\n",
    "# 要會的函式\n",
    "#  'clear',\n",
    "#  'copy',\n",
    "#  'fromkeys',\n",
    "#  'get',\n",
    "#  'items',\n",
    "#  'keys',\n",
    "#  'pop',\n",
    "#  'popitem',\n",
    "#  'setdefault',\n",
    "#  'update',\n",
    "#  'values'"
   ]
  },
  {
   "cell_type": "code",
   "execution_count": 32,
   "id": "ca3de83a",
   "metadata": {},
   "outputs": [
    {
     "data": {
      "text/plain": [
       "{1: '123', 2: '456'}"
      ]
     },
     "execution_count": 32,
     "metadata": {},
     "output_type": "execute_result"
    }
   ],
   "source": [
    "dict1={1:'123',2:'456'}\n",
    "dict1 "
   ]
  },
  {
   "cell_type": "markdown",
   "id": "cb21406c",
   "metadata": {},
   "source": [
    "## Dict 動態新增"
   ]
  },
  {
   "cell_type": "code",
   "execution_count": null,
   "id": "6faff2c0",
   "metadata": {},
   "outputs": [],
   "source": [
    "dict1[4] = '789'\n",
    "dict1 "
   ]
  },
  {
   "cell_type": "markdown",
   "id": "4e5fa47d",
   "metadata": {},
   "source": [
    "## Dict 刪除元素"
   ]
  },
  {
   "cell_type": "code",
   "execution_count": null,
   "id": "016d7e96",
   "metadata": {},
   "outputs": [],
   "source": [
    "dict1.pop(2)\n",
    "dict1 "
   ]
  },
  {
   "cell_type": "code",
   "execution_count": null,
   "id": "1a4fbc55",
   "metadata": {},
   "outputs": [],
   "source": [
    "dict1.popitem()\n",
    "dict1 "
   ]
  },
  {
   "cell_type": "code",
   "execution_count": null,
   "id": "08fdd37f",
   "metadata": {},
   "outputs": [],
   "source": [
    "dict1.clear()\n",
    "dict1"
   ]
  },
  {
   "cell_type": "markdown",
   "id": "ccebc690",
   "metadata": {},
   "source": [
    "## Dict修改資料"
   ]
  },
  {
   "cell_type": "code",
   "execution_count": null,
   "id": "f6afc3c9",
   "metadata": {},
   "outputs": [],
   "source": [
    "dict1[1]='100000'"
   ]
  },
  {
   "cell_type": "markdown",
   "id": "0f30bfbc",
   "metadata": {},
   "source": [
    "## Set\n",
    "### Sets are used to store multiple items in a single variable.\n",
    "### Set is one of 4 built-in data types in Python used to store collections of data, the other 3 are List, Tuple, and Dictionary, all with different qualities and usage."
   ]
  },
  {
   "cell_type": "markdown",
   "id": "cbd9aed8",
   "metadata": {},
   "source": [
    "### * Note: Set items are unchangeable, but you can remove items and add new items.\n",
    "### set 不能修改資料 但可以移除資料或是新增資料"
   ]
  },
  {
   "cell_type": "markdown",
   "id": "1229a4ca",
   "metadata": {},
   "source": [
    "## Set 不能重複(key)"
   ]
  },
  {
   "cell_type": "code",
   "execution_count": 21,
   "id": "004d175c",
   "metadata": {},
   "outputs": [
    {
     "data": {
      "text/plain": [
       "{1, 2, 3}"
      ]
     },
     "execution_count": 21,
     "metadata": {},
     "output_type": "execute_result"
    }
   ],
   "source": [
    "set1 ={1,2,3,3}\n",
    "set1 "
   ]
  },
  {
   "cell_type": "markdown",
   "id": "ddef0292",
   "metadata": {},
   "source": [
    "## Set key 不能是List "
   ]
  },
  {
   "cell_type": "code",
   "execution_count": 22,
   "id": "7d10e01a",
   "metadata": {},
   "outputs": [
    {
     "ename": "TypeError",
     "evalue": "unhashable type: 'list'",
     "output_type": "error",
     "traceback": [
      "\u001b[1;31m---------------------------------------------------------------------------\u001b[0m",
      "\u001b[1;31mTypeError\u001b[0m                                 Traceback (most recent call last)",
      "Cell \u001b[1;32mIn[22], line 1\u001b[0m\n\u001b[1;32m----> 1\u001b[0m set2 \u001b[38;5;241m=\u001b[39m{[\u001b[38;5;241m1\u001b[39m],[\u001b[38;5;241m2\u001b[39m],[\u001b[38;5;241m3\u001b[39m],[\u001b[38;5;241m3\u001b[39m]}\n",
      "\u001b[1;31mTypeError\u001b[0m: unhashable type: 'list'"
     ]
    }
   ],
   "source": [
    "set2 ={[1],[2],[3],[3]}"
   ]
  },
  {
   "cell_type": "markdown",
   "id": "3caa3f1b",
   "metadata": {},
   "source": [
    "## Set key可以是 tuple"
   ]
  },
  {
   "cell_type": "code",
   "execution_count": 23,
   "id": "28f887a4",
   "metadata": {},
   "outputs": [
    {
     "data": {
      "text/plain": [
       "{(1, 2), (2, 3)}"
      ]
     },
     "execution_count": 23,
     "metadata": {},
     "output_type": "execute_result"
    }
   ],
   "source": [
    "set3 = {(1,2),(2,3)}\n",
    "set3"
   ]
  },
  {
   "cell_type": "markdown",
   "id": "3680c357",
   "metadata": {},
   "source": [
    "## Set  新增資料"
   ]
  },
  {
   "cell_type": "code",
   "execution_count": 48,
   "id": "8d26ea5c",
   "metadata": {},
   "outputs": [
    {
     "name": "stdout",
     "output_type": "stream",
     "text": [
      "{'cherry', 'apple', 'banana', 'orange'}\n"
     ]
    }
   ],
   "source": [
    "thisset = {\"apple\", \"banana\", \"cherry\"}\n",
    "thisset.add(\"orange\")\n",
    "\n",
    "print(thisset)"
   ]
  },
  {
   "cell_type": "markdown",
   "id": "e6a36eb0",
   "metadata": {},
   "source": [
    "## Set  合併資料"
   ]
  },
  {
   "cell_type": "code",
   "execution_count": 47,
   "id": "cea0a4f3",
   "metadata": {},
   "outputs": [
    {
     "name": "stdout",
     "output_type": "stream",
     "text": [
      "{'cherry', 'apple', 'mango', 'banana', 'pineapple', 'papaya'}\n"
     ]
    }
   ],
   "source": [
    "thisset = {\"apple\", \"banana\", \"cherry\"}\n",
    "tropical = {\"pineapple\", \"mango\", \"papaya\"}\n",
    "# set 不會有重複元素 重複元素會被覆蓋\n",
    "thisset.update(tropical)\n",
    "\n",
    "print(thisset)"
   ]
  },
  {
   "cell_type": "markdown",
   "id": "695f4af6",
   "metadata": {},
   "source": [
    "## Set  刪除資料"
   ]
  },
  {
   "cell_type": "code",
   "execution_count": 46,
   "id": "341786cc",
   "metadata": {},
   "outputs": [
    {
     "name": "stdout",
     "output_type": "stream",
     "text": [
      "{'cherry', 'apple'}\n"
     ]
    }
   ],
   "source": [
    "# If the item to remove does not exist, remove() will raise an error.\n",
    "thisset = {\"apple\", \"banana\", \"cherry\"}\n",
    "\n",
    "thisset.remove(\"banana\")\n",
    "\n",
    "print(thisset)"
   ]
  },
  {
   "cell_type": "code",
   "execution_count": 45,
   "id": "66975e5a",
   "metadata": {},
   "outputs": [
    {
     "name": "stdout",
     "output_type": "stream",
     "text": [
      "{'cherry', 'apple'}\n"
     ]
    }
   ],
   "source": [
    "# If the item to remove does not exist, remove() will not raise an error\n",
    "thisset = {\"apple\", \"banana\", \"cherry\"}\n",
    "thisset.discard(\"banana\")\n",
    "\n",
    "print(thisset)"
   ]
  },
  {
   "cell_type": "markdown",
   "id": "121f1b16",
   "metadata": {},
   "source": [
    "## Set  查詢資料"
   ]
  },
  {
   "cell_type": "code",
   "execution_count": 44,
   "id": "5a708379",
   "metadata": {},
   "outputs": [
    {
     "name": "stdout",
     "output_type": "stream",
     "text": [
      "cherry\n",
      "apple\n",
      "banana\n"
     ]
    }
   ],
   "source": [
    "thisset = {\"apple\", \"banana\", \"cherry\"}\n",
    "\n",
    "for x in thisset:\n",
    "  print(x)"
   ]
  },
  {
   "cell_type": "markdown",
   "id": "b26f751b",
   "metadata": {},
   "source": [
    "##  Set 函式 "
   ]
  },
  {
   "cell_type": "code",
   "execution_count": 25,
   "id": "cd0292b5",
   "metadata": {},
   "outputs": [
    {
     "data": {
      "text/plain": [
       "['__and__',\n",
       " '__class__',\n",
       " '__class_getitem__',\n",
       " '__contains__',\n",
       " '__delattr__',\n",
       " '__dir__',\n",
       " '__doc__',\n",
       " '__eq__',\n",
       " '__format__',\n",
       " '__ge__',\n",
       " '__getattribute__',\n",
       " '__gt__',\n",
       " '__hash__',\n",
       " '__iand__',\n",
       " '__init__',\n",
       " '__init_subclass__',\n",
       " '__ior__',\n",
       " '__isub__',\n",
       " '__iter__',\n",
       " '__ixor__',\n",
       " '__le__',\n",
       " '__len__',\n",
       " '__lt__',\n",
       " '__ne__',\n",
       " '__new__',\n",
       " '__or__',\n",
       " '__rand__',\n",
       " '__reduce__',\n",
       " '__reduce_ex__',\n",
       " '__repr__',\n",
       " '__ror__',\n",
       " '__rsub__',\n",
       " '__rxor__',\n",
       " '__setattr__',\n",
       " '__sizeof__',\n",
       " '__str__',\n",
       " '__sub__',\n",
       " '__subclasshook__',\n",
       " '__xor__',\n",
       " 'add',\n",
       " 'clear',\n",
       " 'copy',\n",
       " 'difference',\n",
       " 'difference_update',\n",
       " 'discard',\n",
       " 'intersection',\n",
       " 'intersection_update',\n",
       " 'isdisjoint',\n",
       " 'issubset',\n",
       " 'issuperset',\n",
       " 'pop',\n",
       " 'remove',\n",
       " 'symmetric_difference',\n",
       " 'symmetric_difference_update',\n",
       " 'union',\n",
       " 'update']"
      ]
     },
     "execution_count": 25,
     "metadata": {},
     "output_type": "execute_result"
    }
   ],
   "source": [
    "dir(set)\n",
    "# set要會的函式\n",
    "#  'add',\n",
    "#  'clear',\n",
    "#  'copy',\n",
    "#  'difference',\n",
    "#  'difference_update',\n",
    "#  'discard',\n",
    "#  'intersection',\n",
    "#  'intersection_update',\n",
    "#  'isdisjoint',\n",
    "#  'issubset',\n",
    "#  'issuperset',\n",
    "#  'pop',\n",
    "#  'remove',\n",
    "#  'symmetric_difference',\n",
    "#  'symmetric_difference_update',\n",
    "#  'union',\n",
    "#  'update'"
   ]
  },
  {
   "cell_type": "markdown",
   "id": "11005bae",
   "metadata": {},
   "source": [
    "# List"
   ]
  },
  {
   "cell_type": "markdown",
   "id": "05fb6c27",
   "metadata": {},
   "source": [
    "## List 元素查詢"
   ]
  },
  {
   "cell_type": "code",
   "execution_count": 29,
   "id": "6a182f34",
   "metadata": {},
   "outputs": [
    {
     "data": {
      "text/plain": [
       "[1, 2, 3, 4, 5, 6, 8]"
      ]
     },
     "execution_count": 29,
     "metadata": {},
     "output_type": "execute_result"
    }
   ],
   "source": [
    "list_search = [1,2,3,4,5,6,8]\n",
    "[i for i in list_search]"
   ]
  },
  {
   "cell_type": "markdown",
   "id": "0c80ca8c",
   "metadata": {},
   "source": [
    "## List 新增元素的方法"
   ]
  },
  {
   "cell_type": "code",
   "execution_count": 33,
   "id": "c24fead9",
   "metadata": {},
   "outputs": [
    {
     "data": {
      "text/plain": [
       "[10]"
      ]
     },
     "execution_count": 33,
     "metadata": {},
     "output_type": "execute_result"
    }
   ],
   "source": [
    "n_list.append(10)\n",
    "n_list"
   ]
  },
  {
   "cell_type": "code",
   "execution_count": 34,
   "id": "7332df7d",
   "metadata": {},
   "outputs": [
    {
     "data": {
      "text/plain": [
       "[20, 10]"
      ]
     },
     "execution_count": 34,
     "metadata": {},
     "output_type": "execute_result"
    }
   ],
   "source": [
    "n_list.insert(0,20) # 新增一個元素到指定位置 (指定位置,元素)\n",
    "n_list "
   ]
  },
  {
   "cell_type": "markdown",
   "id": "b989bd06",
   "metadata": {},
   "source": [
    "## List 修改元素"
   ]
  },
  {
   "cell_type": "code",
   "execution_count": 37,
   "id": "9a26c879",
   "metadata": {},
   "outputs": [
    {
     "data": {
      "text/plain": [
       "[20, 30]"
      ]
     },
     "execution_count": 37,
     "metadata": {},
     "output_type": "execute_result"
    }
   ],
   "source": [
    "n_list[1] = 30 \n",
    "n_list"
   ]
  },
  {
   "cell_type": "markdown",
   "id": "dfb10615",
   "metadata": {},
   "source": [
    "## List 刪除元素"
   ]
  },
  {
   "cell_type": "code",
   "execution_count": 41,
   "id": "b13d9478",
   "metadata": {},
   "outputs": [
    {
     "data": {
      "text/plain": [
       "[50, 89]"
      ]
     },
     "execution_count": 41,
     "metadata": {},
     "output_type": "execute_result"
    }
   ],
   "source": [
    "#list.remove(obj)\n",
    "nN_list=[30,50,89]\n",
    "nN_list.remove(30) #obj你要刪除的對象\n",
    "nN_list "
   ]
  },
  {
   "cell_type": "code",
   "execution_count": 43,
   "id": "cf48597f",
   "metadata": {},
   "outputs": [
    {
     "data": {
      "text/plain": [
       "[50]"
      ]
     },
     "execution_count": 43,
     "metadata": {},
     "output_type": "execute_result"
    }
   ],
   "source": [
    "nN_list.pop() # 移除特定位置 list.pop(index) 預設刪除最後一個\n",
    "nN_list "
   ]
  },
  {
   "cell_type": "markdown",
   "id": "af89df0e",
   "metadata": {},
   "source": [
    "## Tuple "
   ]
  },
  {
   "cell_type": "code",
   "execution_count": 31,
   "id": "e7777076",
   "metadata": {},
   "outputs": [
    {
     "data": {
      "text/plain": [
       "tuple"
      ]
     },
     "execution_count": 31,
     "metadata": {},
     "output_type": "execute_result"
    }
   ],
   "source": [
    "tuple1 = (1,)\n",
    "type(tuple1)"
   ]
  },
  {
   "cell_type": "markdown",
   "id": "e9be9fe4",
   "metadata": {},
   "source": [
    "## 產生空的資料型態方法"
   ]
  },
  {
   "cell_type": "code",
   "execution_count": 38,
   "id": "a833cd9a",
   "metadata": {},
   "outputs": [],
   "source": [
    "n_list = []\n",
    "dict1 ={}\n",
    "set1 = set()\n",
    "tuple1 =()"
   ]
  }
 ],
 "metadata": {
  "kernelspec": {
   "display_name": "Python 3 (ipykernel)",
   "language": "python",
   "name": "python3"
  },
  "language_info": {
   "codemirror_mode": {
    "name": "ipython",
    "version": 3
   },
   "file_extension": ".py",
   "mimetype": "text/x-python",
   "name": "python",
   "nbconvert_exporter": "python",
   "pygments_lexer": "ipython3",
   "version": "3.9.13"
  }
 },
 "nbformat": 4,
 "nbformat_minor": 5
}
