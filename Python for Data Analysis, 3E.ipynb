{
 "cells": [
  {
   "cell_type": "markdown",
   "id": "1d454ff9",
   "metadata": {},
   "source": [
    "## 資料分析參考資料(重要)"
   ]
  },
  {
   "cell_type": "markdown",
   "id": "9bc0a37d",
   "metadata": {},
   "source": [
    "https://wesmckinney.com/book/"
   ]
  },
  {
   "cell_type": "code",
   "execution_count": null,
   "id": "d50a240a",
   "metadata": {},
   "outputs": [],
   "source": []
  }
 ],
 "metadata": {
  "kernelspec": {
   "display_name": "Python 3 (ipykernel)",
   "language": "python",
   "name": "python3"
  },
  "language_info": {
   "codemirror_mode": {
    "name": "ipython",
    "version": 3
   },
   "file_extension": ".py",
   "mimetype": "text/x-python",
   "name": "python",
   "nbconvert_exporter": "python",
   "pygments_lexer": "ipython3",
   "version": "3.9.13"
  }
 },
 "nbformat": 4,
 "nbformat_minor": 5
}
