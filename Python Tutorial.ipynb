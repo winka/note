{
 "cells": [
  {
   "cell_type": "markdown",
   "id": "6b545769",
   "metadata": {},
   "source": [
    "https://www.scaler.com/topics/python/"
   ]
  },
  {
   "cell_type": "code",
   "execution_count": 1,
   "id": "4851373c",
   "metadata": {},
   "outputs": [],
   "source": [
    "#　Regular Expression in Python (正規表示法)\n",
    "# Python Collection Module"
   ]
  }
 ],
 "metadata": {
  "kernelspec": {
   "display_name": "Python 3 (ipykernel)",
   "language": "python",
   "name": "python3"
  },
  "language_info": {
   "codemirror_mode": {
    "name": "ipython",
    "version": 3
   },
   "file_extension": ".py",
   "mimetype": "text/x-python",
   "name": "python",
   "nbconvert_exporter": "python",
   "pygments_lexer": "ipython3",
   "version": "3.9.13"
  }
 },
 "nbformat": 4,
 "nbformat_minor": 5
}
