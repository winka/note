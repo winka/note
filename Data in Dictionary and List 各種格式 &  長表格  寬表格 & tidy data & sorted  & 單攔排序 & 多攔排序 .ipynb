{
 "cells": [
  {
   "cell_type": "code",
   "execution_count": 46,
   "id": "5d63b77e",
   "metadata": {
    "scrolled": true
   },
   "outputs": [
    {
     "data": {
      "text/plain": [
       "['01',\n",
       " '張峻豪',\n",
       " '02',\n",
       " '黃柏元',\n",
       " '03',\n",
       " '曾鉦翔',\n",
       " '04',\n",
       " '楊為邦',\n",
       " '05',\n",
       " '彭華浚',\n",
       " '06',\n",
       " '古家宇',\n",
       " '07',\n",
       " '蘇奕',\n",
       " '08',\n",
       " '吳怡嫺',\n",
       " '09',\n",
       " '林奕彣',\n",
       " '10',\n",
       " '彭娙詞',\n",
       " '11',\n",
       " '方致堯',\n",
       " '12',\n",
       " '彭建愷',\n",
       " '13',\n",
       " '黃昱凱',\n",
       " '14',\n",
       " '張博閔',\n",
       " '15',\n",
       " '陸冠宏',\n",
       " '16',\n",
       " '龔政宇',\n",
       " '17',\n",
       " '雷子賢',\n",
       " '18',\n",
       " '郭建佑',\n",
       " '19',\n",
       " '謝金花',\n",
       " '20',\n",
       " '甘俞珺',\n",
       " '21',\n",
       " '何承恩',\n",
       " '22',\n",
       " '張家妮',\n",
       " '23',\n",
       " '余鉑涵']"
      ]
     },
     "execution_count": 46,
     "metadata": {},
     "output_type": "execute_result"
    }
   ],
   "source": [
    "f = open('尖兵.txt', 'r',encoding=\"utf-8\")\n",
    "read_data= f.read()\n",
    "f.close()\n",
    "list1 = read_data.split()\n",
    "list1 "
   ]
  },
  {
   "cell_type": "code",
   "execution_count": 48,
   "id": "5a9a8924",
   "metadata": {},
   "outputs": [],
   "source": [
    "import random \n",
    "computer = random.randint(0,100)\n",
    "draw = random.randint(0,100)\n",
    "app = random.randint(0,100)"
   ]
  },
  {
   "cell_type": "markdown",
   "id": "98d44834",
   "metadata": {},
   "source": [
    "### 加入 computer draw app in list1"
   ]
  },
  {
   "cell_type": "code",
   "execution_count": 49,
   "id": "45deb848",
   "metadata": {},
   "outputs": [
    {
     "data": {
      "text/plain": [
       "['01',\n",
       " '張峻豪',\n",
       " 46,\n",
       " 0,\n",
       " 36,\n",
       " '02',\n",
       " '黃柏元',\n",
       " 76,\n",
       " 77,\n",
       " 16,\n",
       " '03',\n",
       " '曾鉦翔',\n",
       " 96,\n",
       " 29,\n",
       " 19,\n",
       " '04',\n",
       " '楊為邦',\n",
       " 8,\n",
       " 81,\n",
       " 13,\n",
       " '05',\n",
       " '彭華浚',\n",
       " 45,\n",
       " 15,\n",
       " 38,\n",
       " '06',\n",
       " '古家宇',\n",
       " 45,\n",
       " 77,\n",
       " 5,\n",
       " '07',\n",
       " '蘇奕',\n",
       " 5,\n",
       " 74,\n",
       " 57,\n",
       " '08',\n",
       " '吳怡嫺',\n",
       " 19,\n",
       " 95,\n",
       " 53,\n",
       " '09',\n",
       " '林奕彣',\n",
       " 60,\n",
       " 100,\n",
       " 16,\n",
       " '10',\n",
       " '彭娙詞',\n",
       " 47,\n",
       " 94,\n",
       " 61,\n",
       " '11',\n",
       " '方致堯',\n",
       " 38,\n",
       " 75,\n",
       " 23,\n",
       " '12',\n",
       " '彭建愷',\n",
       " 17,\n",
       " 1,\n",
       " 77,\n",
       " '13',\n",
       " '黃昱凱',\n",
       " 72,\n",
       " 47,\n",
       " 13,\n",
       " '14',\n",
       " '張博閔',\n",
       " 65,\n",
       " 98,\n",
       " 19,\n",
       " '15',\n",
       " '陸冠宏',\n",
       " 29,\n",
       " 3,\n",
       " 83,\n",
       " '16',\n",
       " '龔政宇',\n",
       " 11,\n",
       " 70,\n",
       " 29,\n",
       " '17',\n",
       " '雷子賢',\n",
       " 82,\n",
       " 61,\n",
       " 22,\n",
       " '18',\n",
       " '郭建佑',\n",
       " 42,\n",
       " 70,\n",
       " 70,\n",
       " '19',\n",
       " '謝金花',\n",
       " 49,\n",
       " 98,\n",
       " 8,\n",
       " '20',\n",
       " '甘俞珺',\n",
       " 31,\n",
       " 35,\n",
       " 82,\n",
       " '21',\n",
       " '何承恩',\n",
       " 5,\n",
       " 97,\n",
       " 32,\n",
       " '22',\n",
       " '張家妮',\n",
       " 17,\n",
       " 57,\n",
       " 1,\n",
       " '23',\n",
       " '余鉑涵',\n",
       " 79,\n",
       " 53,\n",
       " 51]"
      ]
     },
     "execution_count": 49,
     "metadata": {},
     "output_type": "execute_result"
    }
   ],
   "source": [
    "\n",
    "for i in range((len(list1)+69)):\n",
    "    if i % 5 == 2:\n",
    "        list1.insert(i,random.randint(0,100))\n",
    "    elif i % 5 == 3:\n",
    "        list1.insert(i,random.randint(0,100))\n",
    "    elif i % 5 == 4:\n",
    "        list1.insert(i,random.randint(0,100))\n",
    "    \n",
    "list1 \n"
   ]
  },
  {
   "cell_type": "code",
   "execution_count": null,
   "id": "5d45065b",
   "metadata": {},
   "outputs": [],
   "source": [
    "# 資料寫入 txt\n",
    "f = open('尖兵1.txt','w',encoding='utf-8')\n",
    "f.write(str(list1)) # txt 必須是str\n",
    "f.close()"
   ]
  },
  {
   "cell_type": "code",
   "execution_count": null,
   "id": "96c68c08",
   "metadata": {},
   "outputs": [],
   "source": [
    "# 將資料放進串列\n",
    "\n",
    "f = open('尖兵1.txt', 'r',encoding=\"utf-8\")\n",
    "read_data= f.read()\n",
    "f.close()\n",
    "list1 = read_data.split(',')\n",
    "list1 \n"
   ]
  },
  {
   "cell_type": "code",
   "execution_count": null,
   "id": "515c23b2",
   "metadata": {
    "scrolled": false
   },
   "outputs": [],
   "source": [
    "data_list =[]\n",
    "temp_list = [] \n",
    "for i in range(len(list1)):\n",
    "    if i%5== 0 or i%5 == 1 or i%5 == 2 or i%5 == 3 or i%5 == 4 :     \n",
    "        temp_list.append(list1[i])\n",
    "        print(temp_list )\n",
    "        if  i !=0 &i  % 5 == 0 :\n",
    "            data_list.append(temp_list)\n",
    "            temp_list=[] \n"
   ]
  },
  {
   "cell_type": "code",
   "execution_count": null,
   "id": "cf1b359c",
   "metadata": {},
   "outputs": [],
   "source": [
    "'''\n",
    "[['學號', '姓名', '繪圖', '程式', '硬體'],\n",
    " ['01', '張峻豪', 63, 42, 1],\n",
    " ['02', '黃柏元', 59, 63, 46],\n",
    " ['03', '曾鉦翔', 65, 35, 8],\n",
    " ['04', '楊為邦', 15, 21, 8],\n",
    " ['05', '彭華浚', 87, 21, 44],\n",
    " ['06', '古家宇', 78, 95, 38],\n",
    " ['07', '蘇奕', 75, 80, 37],\n",
    " ['08', '吳怡嫺', 6, 13, 5],\n",
    " ['09', '林奕彣', 83, 51, 58],\n",
    " ['10', '彭娙詞', 61, 66, 33],\n",
    " ['11', '方致堯', 56, 54, 99],\n",
    " ['12', '彭建愷', 21, 54, 7],\n",
    " ['13', '黃昱凱', 25, 96, 45],\n",
    " ['14', '張博閔', 15, 13, 64],\n",
    " ['15', '陸冠宏', 46, 28, 62],\n",
    " ['16', '龔政宇', 20, 32, 84],\n",
    " ['17', '雷子賢', 97, 46, 25],\n",
    " ['18', '郭建佑', 45, 95, 26],\n",
    " ['19', '謝金花', 50, 35, 100],\n",
    " ['20', '甘俞珺', 82, 16, 32],\n",
    " ['21', '何承恩', 94, 10, 56],\n",
    " ['22', '張家妮', 80, 41, 49],\n",
    "'''"
   ]
  },
  {
   "cell_type": "code",
   "execution_count": 11,
   "id": "9e573a11",
   "metadata": {},
   "outputs": [
    {
     "data": {
      "text/plain": [
       "[['學號', '姓名', '繪圖', '程式', '硬體'],\n",
       " [\"['01'\", \" '張峻豪'\", ' 46', ' 34', ' 27'],\n",
       " [\" '02'\", \" '黃柏元'\", ' 9', ' 5', ' 43'],\n",
       " [\" '03'\", \" '曾鉦翔'\", ' 55', ' 33', ' 30'],\n",
       " [\" '04'\", \" '楊為邦'\", ' 97', ' 71', ' 48'],\n",
       " [\" '05'\", \" '彭華浚'\", ' 6', ' 53', ' 17'],\n",
       " [\" '06'\", \" '古家宇'\", ' 60', ' 60', ' 79'],\n",
       " [\" '07'\", \" '蘇奕'\", ' 92', ' 2', ' 96'],\n",
       " [\" '08'\", \" '吳怡嫺'\", ' 74', ' 62', ' 100'],\n",
       " [\" '09'\", \" '林奕彣'\", ' 80', ' 22', ' 96'],\n",
       " [\" '10'\", \" '彭娙詞'\", ' 85', ' 99', ' 49'],\n",
       " [\" '11'\", \" '方致堯'\", ' 92', ' 95', ' 38'],\n",
       " [\" '12'\", \" '彭建愷'\", ' 32', ' 11', ' 94'],\n",
       " [\" '13'\", \" '黃昱凱'\", ' 29', ' 24', ' 3'],\n",
       " [\" '14'\", \" '張博閔'\", ' 56', ' 49', ' 52'],\n",
       " [\" '15'\", \" '陸冠宏'\", ' 79', ' 89', ' 3'],\n",
       " [\" '16'\", \" '龔政宇'\", ' 79', ' 67', ' 73'],\n",
       " [\" '17'\", \" '雷子賢'\", ' 20', ' 49', ' 100'],\n",
       " [\" '18'\", \" '郭建佑'\", ' 22', ' 57', ' 37'],\n",
       " [\" '19'\", \" '謝金花'\", ' 37', ' 78', ' 32'],\n",
       " [\" '20'\", \" '甘俞珺'\", ' 36', ' 89', ' 20'],\n",
       " [\" '21'\", \" '何承恩'\", ' 33', ' 93', ' 33'],\n",
       " [\" '22'\", \" '張家妮'\", ' 71', ' 60', ' 55'],\n",
       " [\" '23'\", \" '余鉑涵'\", ' 19', ' 57', 70]]"
      ]
     },
     "execution_count": 11,
     "metadata": {},
     "output_type": "execute_result"
    }
   ],
   "source": [
    "list_2d = [[list1[n],list1[n+1],list1[n+2],list1[n+3],list1[n+4]]  for n in range(0,len(list1),5)]\n",
    "list_2d.insert(0,['學號','姓名','繪圖','程式','硬體'])\n",
    "\n",
    "list_2d"
   ]
  },
  {
   "cell_type": "code",
   "execution_count": null,
   "id": "b5582618",
   "metadata": {},
   "outputs": [],
   "source": [
    "for i  in range(0,10 , 5): \n",
    "    print(i)"
   ]
  },
  {
   "cell_type": "code",
   "execution_count": null,
   "id": "3f68cc17",
   "metadata": {},
   "outputs": [],
   "source": [
    "for n in range(1,len(list_2d)):\n",
    "    list_2d[n][2] = int(list_2d[n][2])\n",
    "    list_2d[n][3] = int(list_2d[n][3])\n",
    "#     list_2d[n][4] = int(list_2d[n][4])\n",
    "list_2d   "
   ]
  },
  {
   "cell_type": "code",
   "execution_count": null,
   "id": "d90df005",
   "metadata": {},
   "outputs": [],
   "source": [
    "dir(str)"
   ]
  },
  {
   "cell_type": "code",
   "execution_count": null,
   "id": "ea309098",
   "metadata": {},
   "outputs": [],
   "source": [
    "list_2d[23][4] = 70 \n",
    "list_2d[0] "
   ]
  },
  {
   "cell_type": "code",
   "execution_count": null,
   "id": "5eb9ec7e",
   "metadata": {},
   "outputs": [],
   "source": [
    "# dict1 = {}  \n",
    "# dict1[  list_2d[0][0] ] = [list_2d[n][0] for n in range(1,len(list_2d))]\n",
    "# dict1[  list_2d[0][1] ] = [list_2d[n][1] for n in range(1,len(list_2d))]\n",
    "# dict1[  list_2d[0][2] ] = [list_2d[n][2] for n in range(1,len(list_2d))]\n",
    "# dict1[  list_2d[0][3] ] = [list_2d[n][3] for n in range(1,len(list_2d))]"
   ]
  },
  {
   "cell_type": "code",
   "execution_count": null,
   "id": "d40f941e",
   "metadata": {},
   "outputs": [],
   "source": [
    "'''\n",
    "{'學號': ['01',\n",
    "  '02',\n",
    "  '03',\n",
    "  '04',\n",
    "  '05',\n",
    "  '06',\n",
    "  '07',\n",
    "  '08',\n",
    "  '09',\n",
    "  '10',\n",
    "  '11',\n",
    "  '12',\n",
    "  '13',\n",
    "  '14',\n",
    "  '15',\n",
    "  '16',\n",
    "  '17',\n",
    "  '18',\n",
    "  '19',\n",
    "  '20',\n",
    "  '21',\n",
    "  '22',\n",
    "  '23'],\n",
    " '姓名': ['張峻豪',\n",
    "  '黃柏元',\n",
    "  '曾鉦翔',\n",
    "  '楊為邦',\n",
    "  '彭華浚',\n",
    "  '古家宇',\n",
    "  '蘇奕',\n",
    "  '吳怡嫺',\n",
    "  '林奕彣',\n",
    "  '彭娙詞',\n",
    "  '方致堯',\n",
    "  '彭建愷',\n",
    "  '黃昱凱',\n",
    "  '張博閔',\n",
    "  '陸冠宏',\n",
    "  '龔政宇',\n",
    "  '雷子賢',\n",
    "  '郭建佑',\n",
    "  '謝金花',\n",
    "  '甘俞珺',\n",
    "  '何承恩',\n",
    "  '張家妮',\n",
    "  '余鉑涵'],\n",
    " '繪圖': [63,\n",
    "  59,\n",
    "  65,\n",
    "  15,\n",
    "  87,\n",
    "  78,\n",
    "  75,\n",
    "  6,\n",
    "  83,\n",
    "  61,\n",
    "  56,\n",
    "  21,\n",
    "  25,\n",
    "  15,\n",
    "  46,\n",
    "  20,\n",
    "  97,\n",
    "  45,\n",
    "  50,\n",
    "  82,\n",
    "  94,\n",
    "  80,\n",
    "  78],\n",
    " '程式': [42,\n",
    "  63,\n",
    "  35,\n",
    "  21,\n",
    "  21,\n",
    "  95,\n",
    "  80,\n",
    "  13,\n",
    "  51,\n",
    "  66,\n",
    "  54,\n",
    "  54,\n",
    "  96,\n",
    "  13,\n",
    "  28,\n",
    "  32,\n",
    "  46,\n",
    "  95,\n",
    "  35,\n",
    "  16,\n",
    "  10,\n",
    "  41,\n",
    "  43],\n",
    " '硬體': [1,\n",
    "  46,\n",
    "  8,\n",
    "  8,\n",
    "  44,\n",
    "  38,\n",
    "  37,\n",
    "  5,\n",
    "  58,\n",
    "  33,\n",
    "  99,\n",
    "  7,\n",
    "  45,\n",
    "  64,\n",
    "  62,\n",
    "  84,\n",
    "  25,\n",
    "  26,\n",
    "  100,\n",
    "  32,\n",
    "  56,\n",
    "  49,\n",
    "  66]}\n",
    "'''"
   ]
  },
  {
   "cell_type": "code",
   "execution_count": null,
   "id": "521b8448",
   "metadata": {},
   "outputs": [],
   "source": [
    "# 資料放入字典  \n",
    "# 上面的精簡版\n",
    "dict1 = {} \n",
    "for i in range(5):\n",
    "    dict1[  list_2d[0][i] ] = [list_2d[n][i] for n in range(1,len(list_2d))]\n",
    "dict1"
   ]
  },
  {
   "cell_type": "code",
   "execution_count": null,
   "id": "68ae3b95",
   "metadata": {},
   "outputs": [],
   "source": [
    "# 一元運算子 -運算子\n",
    "# 二元運算子  運算子 / 運算子\n",
    "# 三元運算子  運算子 if 條件 else 運算子 \n",
    "# 數值型資料最好放在一起 方便運算\n"
   ]
  },
  {
   "cell_type": "markdown",
   "id": "b95b31d6",
   "metadata": {},
   "source": [
    "##  將資料存成字典 以學號為key "
   ]
  },
  {
   "cell_type": "code",
   "execution_count": null,
   "id": "bf15baac",
   "metadata": {},
   "outputs": [],
   "source": [
    "# 將資料放進串列\n",
    "\n",
    "f = open('尖兵1.txt', 'r',encoding=\"utf-8\")\n",
    "read_data= f.read()\n",
    "f.close()\n",
    "list1 = read_data.split(',')\n",
    "len(list1)"
   ]
  },
  {
   "cell_type": "code",
   "execution_count": null,
   "id": "9947b587",
   "metadata": {},
   "outputs": [],
   "source": [
    "'''\n",
    "{'01': ['張峻豪', 63, 42, 1],\n",
    " '02': ['黃柏元', 59, 63, 46],\n",
    " '03': ['曾鉦翔', 65, 35, 8],\n",
    " '04': ['楊為邦', 15, 21, 8],\n",
    " '05': ['彭華浚', 87, 21, 44],\n",
    " '06': ['古家宇', 78, 95, 38],\n",
    " '07': ['蘇奕', 75, 80, 37],\n",
    " '08': ['吳怡嫺', 6, 13, 5],\n",
    " '09': ['林奕彣', 83, 51, 58],\n",
    " '10': ['彭娙詞', 61, 66, 33],\n",
    " '11': ['方致堯', 56, 54, 99],\n",
    " '12': ['彭建愷', 21, 54, 7],\n",
    " '13': ['黃昱凱', 25, 96, 45],\n",
    " '14': ['張博閔', 15, 13, 64],\n",
    " '15': ['陸冠宏', 46, 28, 62],\n",
    " '16': ['龔政宇', 20, 32, 84],\n",
    " '17': ['雷子賢', 97, 46, 25],\n",
    " '18': ['郭建佑', 45, 95, 26],\n",
    " '19': ['謝金花', 50, 35, 100],\n",
    " '20': ['甘俞珺', 82, 16, 32],\n",
    " '21': ['何承恩', 94, 10, 56],\n",
    " '22': ['張家妮', 80, 41, 49],\n",
    " '23': ['余鉑涵', 78, 43, 66]}\n",
    "'''"
   ]
  },
  {
   "cell_type": "code",
   "execution_count": 10,
   "id": "5a3f2a73",
   "metadata": {},
   "outputs": [
    {
     "data": {
      "text/plain": [
       "{\"['01'\": [\" '張峻豪'\", 46, 34, 27],\n",
       " \" '02'\": [\" '黃柏元'\", 9, 5, 43],\n",
       " \" '03'\": [\" '曾鉦翔'\", 55, 33, 30],\n",
       " \" '04'\": [\" '楊為邦'\", 97, 71, 48],\n",
       " \" '05'\": [\" '彭華浚'\", 6, 53, 17],\n",
       " \" '06'\": [\" '古家宇'\", 60, 60, 79],\n",
       " \" '07'\": [\" '蘇奕'\", 92, 2, 96],\n",
       " \" '08'\": [\" '吳怡嫺'\", 74, 62, 100],\n",
       " \" '09'\": [\" '林奕彣'\", 80, 22, 96],\n",
       " \" '10'\": [\" '彭娙詞'\", 85, 99, 49],\n",
       " \" '11'\": [\" '方致堯'\", 92, 95, 38],\n",
       " \" '12'\": [\" '彭建愷'\", 32, 11, 94],\n",
       " \" '13'\": [\" '黃昱凱'\", 29, 24, 3],\n",
       " \" '14'\": [\" '張博閔'\", 56, 49, 52],\n",
       " \" '15'\": [\" '陸冠宏'\", 79, 89, 3],\n",
       " \" '16'\": [\" '龔政宇'\", 79, 67, 73],\n",
       " \" '17'\": [\" '雷子賢'\", 20, 49, 100],\n",
       " \" '18'\": [\" '郭建佑'\", 22, 57, 37],\n",
       " \" '19'\": [\" '謝金花'\", 37, 78, 32],\n",
       " \" '20'\": [\" '甘俞珺'\", 36, 89, 20],\n",
       " \" '21'\": [\" '何承恩'\", 33, 93, 33],\n",
       " \" '22'\": [\" '張家妮'\", 71, 60, 55],\n",
       " \" '23'\": [\" '余鉑涵'\", 19, 57, 70]}"
      ]
     },
     "execution_count": 10,
     "metadata": {},
     "output_type": "execute_result"
    }
   ],
   "source": [
    "dict1 = {}\n",
    "list1[114] = 70 \n",
    "# 寬表格(易於閱讀)\n",
    "for i in range(0,len(list1),5):\n",
    "    dict1[list1[i]] = [ list1[i+1],int(list1[i+2]),int(list1[i+3]),int(list1[i+4])] \n",
    "dict1 \n",
    "\n",
    "# 精簡版\n",
    "# for i in range(0,len(list1),5):\n",
    "#     dict1[list1[i]] = [ list1[i+j] for j in range(1,5) ]\n",
    "# dict1 "
   ]
  },
  {
   "cell_type": "markdown",
   "id": "9b4fa1bb",
   "metadata": {},
   "source": [
    "## 長表格 與 寬表格\n",
    "### 長表格(易於閱讀)  寬表格(程式讀的)"
   ]
  },
  {
   "cell_type": "markdown",
   "id": "e115d422",
   "metadata": {},
   "source": [
    "###  https://haosquare.com/python-pandas-wide-and-long-data/"
   ]
  },
  {
   "attachments": {
    "image.png": {
     "image/png": "[encoded data removed]"
    }
   },
   "cell_type": "markdown",
   "id": "18133ffa",
   "metadata": {},
   "source": [
    "![image.png](attachment:image.png)"
   ]
  },
  {
   "cell_type": "markdown",
   "id": "aaff1d52",
   "metadata": {},
   "source": [
    "## tidy data(乾淨的資料)\n",
    "### https://www.researchgate.net/publication/215990669_Tidy_data\n",
    "### 2.3 重要"
   ]
  },
  {
   "cell_type": "code",
   "execution_count": null,
   "id": "9a09d417",
   "metadata": {},
   "outputs": [],
   "source": [
    "f = open('尖兵1.txt', 'r',encoding=\"utf-8\")\n",
    "read_data= f.read()\n",
    "f.close()\n",
    "list1 = read_data.split(',')\n",
    "list1 "
   ]
  },
  {
   "cell_type": "code",
   "execution_count": null,
   "id": "b27ebb20",
   "metadata": {},
   "outputs": [],
   "source": [
    "dir(list1)\n",
    "list1.insert(0,'學號')\n",
    "list1.insert(1,'姓名')\n",
    "list1.insert(2,'程式')\n",
    "list1.insert(3,'繪圖')\n",
    "list1.insert(4,'app')\n",
    "list1[2] "
   ]
  },
  {
   "cell_type": "code",
   "execution_count": null,
   "id": "9fb363f3",
   "metadata": {},
   "outputs": [],
   "source": [
    "'''\n",
    "\n",
    "[['學號', '姓名', '程式', '程式'],\n",
    " ['學號', '姓名', '繪圖', '繪圖'],\n",
    " ['學號', '姓名', 'app', 'app'],\n",
    " ['01', '張峻豪', '程式', 63],\n",
    " ['01', '張峻豪', '繪圖', 42],\n",
    " ['01', '張峻豪', 'app', 1],\n",
    " ['02', '黃柏元', '程式', 59],\n",
    " ['02', '黃柏元', '繪圖', 63],\n",
    " ['02', '黃柏元', 'app', 46],\n",
    " ['03', '曾鉦翔', '程式', 65],\n",
    " ['03', '曾鉦翔', '繪圖', 35],\n",
    " ['03', '曾鉦翔', 'app', 8],\n",
    " ['04', '楊為邦', '程式', 15],\n",
    " ['04', '楊為邦', '繪圖', 21],\n",
    " ['04', '楊為邦', 'app', 8],\n",
    " ['05', '彭華浚', '程式', 87],\n",
    " ['05', '彭華浚', '繪圖', 21],\n",
    " ['05', '彭華浚', 'app', 44],\n",
    " ['06', '古家宇', '程式', 78],\n",
    " ['06', '古家宇', '繪圖', 95],\n",
    " ['06', '古家宇', 'app', 38],\n",
    " ['07', '蘇奕', '程式', 75],\n",
    " ['07', '蘇奕', '繪圖', 80],\n",
    " ['07', '蘇奕', 'app', 37],\n",
    " ['08', '吳怡嫺', '程式', 6],\n",
    " ['08', '吳怡嫺', '繪圖', 13],\n",
    " ['08', '吳怡嫺', 'app', 5],\n",
    " ['09', '林奕彣', '程式', 83],\n",
    " ['09', '林奕彣', '繪圖', 51],\n",
    " ['09', '林奕彣', 'app', 58],\n",
    " ['10', '彭娙詞', '程式', 61],\n",
    " ['10', '彭娙詞', '繪圖', 66],\n",
    " ['10', '彭娙詞', 'app', 33],\n",
    " ['11', '方致堯', '程式', 56],\n",
    " ['11', '方致堯', '繪圖', 54],\n",
    " ['11', '方致堯', 'app', 99],\n",
    " ['12', '彭建愷', '程式', 21],\n",
    " ['12', '彭建愷', '繪圖', 54],\n",
    " ['12', '彭建愷', 'app', 7],\n",
    " ['13', '黃昱凱', '程式', 25],\n",
    " ['13', '黃昱凱', '繪圖', 96],\n",
    " ['13', '黃昱凱', 'app', 45],\n",
    " ['14', '張博閔', '程式', 15],\n",
    " ['14', '張博閔', '繪圖', 13],\n",
    " ['14', '張博閔', 'app', 64],\n",
    " ['15', '陸冠宏', '程式', 46],\n",
    " ['15', '陸冠宏', '繪圖', 28],\n",
    " ['15', '陸冠宏', 'app', 62],\n",
    " ['16', '龔政宇', '程式', 20],\n",
    " ['16', '龔政宇', '繪圖', 32],\n",
    " ['16', '龔政宇', 'app', 84],\n",
    " ['17', '雷子賢', '程式', 97],\n",
    " ['17', '雷子賢', '繪圖', 46],\n",
    " ['17', '雷子賢', 'app', 25],\n",
    " ['18', '郭建佑', '程式', 45],\n",
    " ['18', '郭建佑', '繪圖', 95],\n",
    " ['18', '郭建佑', 'app', 26],\n",
    " ['19', '謝金花', '程式', 50],\n",
    " ['19', '謝金花', '繪圖', 35],\n",
    " ['19', '謝金花', 'app', 100],\n",
    " ['20', '甘俞珺', '程式', 82],\n",
    " ['20', '甘俞珺', '繪圖', 16],\n",
    " ['20', '甘俞珺', 'app', 32],\n",
    " ['21', '何承恩', '程式', 94],\n",
    " ['21', '何承恩', '繪圖', 10],\n",
    " ['21', '何承恩', 'app', 56],\n",
    " ['22', '張家妮', '程式', 80],\n",
    " ['22', '張家妮', '繪圖', 41],\n",
    " ['22', '張家妮', 'app', 49],\n",
    " ['23', '余鉑涵', '程式', 78],\n",
    " ['23', '余鉑涵', '繪圖', 43],\n",
    " ['23', '余鉑涵', 'app', 66]]\n",
    "'''"
   ]
  },
  {
   "cell_type": "code",
   "execution_count": null,
   "id": "04ec085a",
   "metadata": {},
   "outputs": [],
   "source": [
    "# 長表格\n",
    "n_list = []\n",
    "for n in range(5,len(list1),5):\n",
    "    n_list.append([list1[n],list1[n+1],list1[2],list1[n+2]])\n",
    "    n_list.append([list1[n],list1[n+1],list1[3],list1[n+3]])\n",
    "    n_list.append([list1[n],list1[n+1],list1[4],list1[n+4]])\n",
    "     \n",
    "n_list "
   ]
  },
  {
   "cell_type": "code",
   "execution_count": 1,
   "id": "b6fd21c5",
   "metadata": {},
   "outputs": [
    {
     "data": {
      "text/plain": [
       "[\"['01'\",\n",
       " \" '張峻豪'\",\n",
       " ' 46',\n",
       " ' 34',\n",
       " ' 27',\n",
       " \" '02'\",\n",
       " \" '黃柏元'\",\n",
       " ' 9',\n",
       " ' 5',\n",
       " ' 43',\n",
       " \" '03'\",\n",
       " \" '曾鉦翔'\",\n",
       " ' 55',\n",
       " ' 33',\n",
       " ' 30',\n",
       " \" '04'\",\n",
       " \" '楊為邦'\",\n",
       " ' 97',\n",
       " ' 71',\n",
       " ' 48',\n",
       " \" '05'\",\n",
       " \" '彭華浚'\",\n",
       " ' 6',\n",
       " ' 53',\n",
       " ' 17',\n",
       " \" '06'\",\n",
       " \" '古家宇'\",\n",
       " ' 60',\n",
       " ' 60',\n",
       " ' 79',\n",
       " \" '07'\",\n",
       " \" '蘇奕'\",\n",
       " ' 92',\n",
       " ' 2',\n",
       " ' 96',\n",
       " \" '08'\",\n",
       " \" '吳怡嫺'\",\n",
       " ' 74',\n",
       " ' 62',\n",
       " ' 100',\n",
       " \" '09'\",\n",
       " \" '林奕彣'\",\n",
       " ' 80',\n",
       " ' 22',\n",
       " ' 96',\n",
       " \" '10'\",\n",
       " \" '彭娙詞'\",\n",
       " ' 85',\n",
       " ' 99',\n",
       " ' 49',\n",
       " \" '11'\",\n",
       " \" '方致堯'\",\n",
       " ' 92',\n",
       " ' 95',\n",
       " ' 38',\n",
       " \" '12'\",\n",
       " \" '彭建愷'\",\n",
       " ' 32',\n",
       " ' 11',\n",
       " ' 94',\n",
       " \" '13'\",\n",
       " \" '黃昱凱'\",\n",
       " ' 29',\n",
       " ' 24',\n",
       " ' 3',\n",
       " \" '14'\",\n",
       " \" '張博閔'\",\n",
       " ' 56',\n",
       " ' 49',\n",
       " ' 52',\n",
       " \" '15'\",\n",
       " \" '陸冠宏'\",\n",
       " ' 79',\n",
       " ' 89',\n",
       " ' 3',\n",
       " \" '16'\",\n",
       " \" '龔政宇'\",\n",
       " ' 79',\n",
       " ' 67',\n",
       " ' 73',\n",
       " \" '17'\",\n",
       " \" '雷子賢'\",\n",
       " ' 20',\n",
       " ' 49',\n",
       " ' 100',\n",
       " \" '18'\",\n",
       " \" '郭建佑'\",\n",
       " ' 22',\n",
       " ' 57',\n",
       " ' 37',\n",
       " \" '19'\",\n",
       " \" '謝金花'\",\n",
       " ' 37',\n",
       " ' 78',\n",
       " ' 32',\n",
       " \" '20'\",\n",
       " \" '甘俞珺'\",\n",
       " ' 36',\n",
       " ' 89',\n",
       " ' 20',\n",
       " \" '21'\",\n",
       " \" '何承恩'\",\n",
       " ' 33',\n",
       " ' 93',\n",
       " ' 33',\n",
       " \" '22'\",\n",
       " \" '張家妮'\",\n",
       " ' 71',\n",
       " ' 60',\n",
       " ' 55',\n",
       " \" '23'\",\n",
       " \" '余鉑涵'\",\n",
       " ' 19',\n",
       " ' 57',\n",
       " ' 70]']"
      ]
     },
     "execution_count": 1,
     "metadata": {},
     "output_type": "execute_result"
    }
   ],
   "source": [
    "# 將資料放進串列\n",
    "\n",
    "f = open('尖兵1.txt', 'r',encoding=\"utf-8\")\n",
    "read_data= f.read()\n",
    "f.close()\n",
    "list1 = read_data.split(',')\n",
    "list1 "
   ]
  },
  {
   "cell_type": "code",
   "execution_count": 29,
   "id": "68f05275",
   "metadata": {},
   "outputs": [
    {
     "data": {
      "text/plain": [
       "[['學號', '姓名', '繪圖', '程式', '硬體'],\n",
       " [\"['01'\", \" '張峻豪'\", 46, 34, 27],\n",
       " [\" '02'\", \" '黃柏元'\", 9, 5, 43],\n",
       " [\" '03'\", \" '曾鉦翔'\", 55, 33, 30],\n",
       " [\" '04'\", \" '楊為邦'\", 97, 71, 48],\n",
       " [\" '05'\", \" '彭華浚'\", 6, 53, 17],\n",
       " [\" '06'\", \" '古家宇'\", 60, 60, 79],\n",
       " [\" '07'\", \" '蘇奕'\", 92, 2, 96],\n",
       " [\" '08'\", \" '吳怡嫺'\", 74, 62, 100],\n",
       " [\" '09'\", \" '林奕彣'\", 80, 22, 96],\n",
       " [\" '10'\", \" '彭娙詞'\", 85, 99, 49],\n",
       " [\" '11'\", \" '方致堯'\", 92, 95, 38],\n",
       " [\" '12'\", \" '彭建愷'\", 32, 11, 94],\n",
       " [\" '13'\", \" '黃昱凱'\", 29, 24, 3],\n",
       " [\" '14'\", \" '張博閔'\", 56, 49, 52],\n",
       " [\" '15'\", \" '陸冠宏'\", 79, 89, 3],\n",
       " [\" '16'\", \" '龔政宇'\", 79, 67, 73],\n",
       " [\" '17'\", \" '雷子賢'\", 20, 49, 100],\n",
       " [\" '18'\", \" '郭建佑'\", 22, 57, 37],\n",
       " [\" '19'\", \" '謝金花'\", 37, 78, 32],\n",
       " [\" '20'\", \" '甘俞珺'\", 36, 89, 20],\n",
       " [\" '21'\", \" '何承恩'\", 33, 93, 33],\n",
       " [\" '22'\", \" '張家妮'\", 71, 60, 55],\n",
       " [\" '23'\", \" '余鉑涵'\", 19, 57, 70]]"
      ]
     },
     "execution_count": 29,
     "metadata": {},
     "output_type": "execute_result"
    }
   ],
   "source": [
    "list_2d = [[list1[n],list1[n+1],list1[n+2],list1[n+3],list1[n+4]]  for n in range(0,len(list1),5)]\n",
    "list_2d.insert(0,['學號','姓名','繪圖','程式','硬體'])\n",
    "\n",
    "for n in range(1,len(list_2d)):\n",
    "    list_2d[n][2] = int(list_2d[n][2])\n",
    "    list_2d[n][3] = int(list_2d[n][3])\n",
    "    list_2d[n][4] = int(list_2d[n][4])\n",
    "list_2d  "
   ]
  },
  {
   "cell_type": "code",
   "execution_count": 33,
   "id": "06e62aed",
   "metadata": {},
   "outputs": [
    {
     "ename": "SyntaxError",
     "evalue": "invalid syntax (770233217.py, line 4)",
     "output_type": "error",
     "traceback": [
      "\u001b[1;36m  Cell \u001b[1;32mIn[33], line 4\u001b[1;36m\u001b[0m\n\u001b[1;33m    list_2d\u001b[0m\n\u001b[1;37m    ^\u001b[0m\n\u001b[1;31mSyntaxError\u001b[0m\u001b[1;31m:\u001b[0m invalid syntax\n"
     ]
    }
   ],
   "source": [
    "list_2d[0].append('平均')\n",
    "for i in range(1,len(list1)):\n",
    "    list_2d.append( int(sum(list_2d[i][2:]                                                                                                                                                                                                                                                         )/3 )\n",
    "list_2d"
   ]
  },
  {
   "cell_type": "markdown",
   "id": "7f29f5df",
   "metadata": {},
   "source": [
    "## sorted(iteralbe, / , *, key=none, reverse=False)"
   ]
  },
  {
   "cell_type": "code",
   "execution_count": 6,
   "id": "22c36ecf",
   "metadata": {},
   "outputs": [
    {
     "data": {
      "text/plain": [
       "[\" '張峻豪'\",\n",
       " \" '黃柏元'\",\n",
       " \" '曾鉦翔'\",\n",
       " \" '楊為邦'\",\n",
       " \" '彭華浚'\",\n",
       " \" '古家宇'\",\n",
       " \" '蘇奕'\",\n",
       " \" '吳怡嫺'\",\n",
       " \" '林奕彣'\",\n",
       " \" '彭娙詞'\",\n",
       " \" '方致堯'\",\n",
       " \" '彭建愷'\",\n",
       " \" '黃昱凱'\",\n",
       " \" '張博閔'\",\n",
       " \" '陸冠宏'\",\n",
       " \" '龔政宇'\",\n",
       " \" '雷子賢'\",\n",
       " \" '郭建佑'\",\n",
       " \" '謝金花'\",\n",
       " \" '甘俞珺'\",\n",
       " \" '何承恩'\",\n",
       " \" '張家妮'\",\n",
       " \" '余鉑涵'\"]"
      ]
     },
     "execution_count": 6,
     "metadata": {},
     "output_type": "execute_result"
    }
   ],
   "source": [
    "\n",
    "name_list = [ list1[n] for n in range(1,len(list1),5)]\n",
    "name_list "
   ]
  },
  {
   "cell_type": "code",
   "execution_count": 7,
   "id": "7992e92c",
   "metadata": {},
   "outputs": [
    {
     "data": {
      "text/plain": [
       "[\" '何承恩'\",\n",
       " \" '余鉑涵'\",\n",
       " \" '古家宇'\",\n",
       " \" '吳怡嫺'\",\n",
       " \" '張博閔'\",\n",
       " \" '張家妮'\",\n",
       " \" '張峻豪'\",\n",
       " \" '彭娙詞'\",\n",
       " \" '彭建愷'\",\n",
       " \" '彭華浚'\",\n",
       " \" '方致堯'\",\n",
       " \" '曾鉦翔'\",\n",
       " \" '林奕彣'\",\n",
       " \" '楊為邦'\",\n",
       " \" '甘俞珺'\",\n",
       " \" '蘇奕'\",\n",
       " \" '謝金花'\",\n",
       " \" '郭建佑'\",\n",
       " \" '陸冠宏'\",\n",
       " \" '雷子賢'\",\n",
       " \" '黃昱凱'\",\n",
       " \" '黃柏元'\",\n",
       " \" '龔政宇'\"]"
      ]
     },
     "execution_count": 7,
     "metadata": {},
     "output_type": "execute_result"
    }
   ],
   "source": [
    "sorted(name_list) # 會給副本(建議使用)\n",
    "name_list.sort() # 不會給副本"
   ]
  },
  {
   "cell_type": "markdown",
   "id": "1ec42580",
   "metadata": {},
   "source": [
    "## 單攔排序"
   ]
  },
  {
   "cell_type": "code",
   "execution_count": 23,
   "id": "069b1b7f",
   "metadata": {},
   "outputs": [
    {
     "data": {
      "text/plain": [
       "[[\" '21'\", \" '何承恩'\", 33, 93, 33],\n",
       " [\" '23'\", \" '余鉑涵'\", 19, 57, 70],\n",
       " [\" '06'\", \" '古家宇'\", 60, 60, 79],\n",
       " [\" '08'\", \" '吳怡嫺'\", 74, 62, 100],\n",
       " [\" '14'\", \" '張博閔'\", 56, 49, 52],\n",
       " [\" '22'\", \" '張家妮'\", 71, 60, 55],\n",
       " [\"['01'\", \" '張峻豪'\", 46, 34, 27],\n",
       " [\" '10'\", \" '彭娙詞'\", 85, 99, 49],\n",
       " [\" '12'\", \" '彭建愷'\", 32, 11, 94],\n",
       " [\" '05'\", \" '彭華浚'\", 6, 53, 17],\n",
       " [\" '11'\", \" '方致堯'\", 92, 95, 38],\n",
       " [\" '03'\", \" '曾鉦翔'\", 55, 33, 30],\n",
       " [\" '09'\", \" '林奕彣'\", 80, 22, 96],\n",
       " [\" '04'\", \" '楊為邦'\", 97, 71, 48],\n",
       " [\" '20'\", \" '甘俞珺'\", 36, 89, 20],\n",
       " [\" '07'\", \" '蘇奕'\", 92, 2, 96],\n",
       " [\" '19'\", \" '謝金花'\", 37, 78, 32],\n",
       " [\" '18'\", \" '郭建佑'\", 22, 57, 37],\n",
       " [\" '15'\", \" '陸冠宏'\", 79, 89, 3],\n",
       " [\" '17'\", \" '雷子賢'\", 20, 49, 100],\n",
       " [\" '13'\", \" '黃昱凱'\", 29, 24, 3],\n",
       " [\" '02'\", \" '黃柏元'\", 9, 5, 43],\n",
       " [\" '16'\", \" '龔政宇'\", 79, 67, 73]]"
      ]
     },
     "execution_count": 23,
     "metadata": {},
     "output_type": "execute_result"
    }
   ],
   "source": [
    "sorted(list_2d[1:], key = lambda s :s[1]) # key(姓名) 一定要寫一個函式 回傳欄位順序\n",
    "# lambda 匿名函式\n",
    "# lambda格式 : lambda 參數 : 回傳值"
   ]
  },
  {
   "cell_type": "markdown",
   "id": "3b38cbac",
   "metadata": {},
   "source": [
    "## 多攔排序"
   ]
  },
  {
   "cell_type": "code",
   "execution_count": 25,
   "id": "5d180cb7",
   "metadata": {
    "scrolled": true
   },
   "outputs": [
    {
     "data": {
      "text/plain": [
       "[[\" '21'\", \" '何承恩'\", 33, 93, 33],\n",
       " [\" '23'\", \" '余鉑涵'\", 19, 57, 70],\n",
       " [\" '06'\", \" '古家宇'\", 60, 60, 79],\n",
       " [\" '08'\", \" '吳怡嫺'\", 74, 62, 100],\n",
       " [\" '14'\", \" '張博閔'\", 56, 49, 52],\n",
       " [\" '22'\", \" '張家妮'\", 71, 60, 55],\n",
       " [\"['01'\", \" '張峻豪'\", 46, 34, 27],\n",
       " [\" '10'\", \" '彭娙詞'\", 85, 99, 49],\n",
       " [\" '12'\", \" '彭建愷'\", 32, 11, 94],\n",
       " [\" '05'\", \" '彭華浚'\", 6, 53, 17],\n",
       " [\" '11'\", \" '方致堯'\", 92, 95, 38],\n",
       " [\" '03'\", \" '曾鉦翔'\", 55, 33, 30],\n",
       " [\" '09'\", \" '林奕彣'\", 80, 22, 96],\n",
       " [\" '04'\", \" '楊為邦'\", 97, 71, 48],\n",
       " [\" '20'\", \" '甘俞珺'\", 36, 89, 20],\n",
       " [\" '07'\", \" '蘇奕'\", 92, 2, 96],\n",
       " [\" '19'\", \" '謝金花'\", 37, 78, 32],\n",
       " [\" '18'\", \" '郭建佑'\", 22, 57, 37],\n",
       " [\" '15'\", \" '陸冠宏'\", 79, 89, 3],\n",
       " [\" '17'\", \" '雷子賢'\", 20, 49, 100],\n",
       " [\" '13'\", \" '黃昱凱'\", 29, 24, 3],\n",
       " [\" '02'\", \" '黃柏元'\", 9, 5, 43],\n",
       " [\" '16'\", \" '龔政宇'\", 79, 67, 73]]"
      ]
     },
     "execution_count": 25,
     "metadata": {},
     "output_type": "execute_result"
    }
   ],
   "source": [
    "sorted(list_2d[1:], key = lambda s: (s[1],s[2])) #多攔排序\n"
   ]
  },
  {
   "cell_type": "markdown",
   "id": "bc98d116",
   "metadata": {},
   "source": [
    "## 打包(zip)"
   ]
  },
  {
   "cell_type": "code",
   "execution_count": 34,
   "id": "1b137494",
   "metadata": {
    "scrolled": false
   },
   "outputs": [
    {
     "data": {
      "text/plain": [
       "[(\" '21'\",\n",
       "  \" '23'\",\n",
       "  \" '06'\",\n",
       "  \" '08'\",\n",
       "  \" '14'\",\n",
       "  \" '22'\",\n",
       "  \"['01'\",\n",
       "  \" '10'\",\n",
       "  \" '12'\",\n",
       "  \" '05'\",\n",
       "  \" '11'\",\n",
       "  \" '03'\",\n",
       "  \" '09'\",\n",
       "  \" '04'\",\n",
       "  \" '20'\",\n",
       "  \" '07'\",\n",
       "  \" '19'\",\n",
       "  \" '18'\",\n",
       "  \" '15'\",\n",
       "  \" '17'\",\n",
       "  \" '13'\",\n",
       "  \" '02'\",\n",
       "  \" '16'\"),\n",
       " (\" '何承恩'\",\n",
       "  \" '余鉑涵'\",\n",
       "  \" '古家宇'\",\n",
       "  \" '吳怡嫺'\",\n",
       "  \" '張博閔'\",\n",
       "  \" '張家妮'\",\n",
       "  \" '張峻豪'\",\n",
       "  \" '彭娙詞'\",\n",
       "  \" '彭建愷'\",\n",
       "  \" '彭華浚'\",\n",
       "  \" '方致堯'\",\n",
       "  \" '曾鉦翔'\",\n",
       "  \" '林奕彣'\",\n",
       "  \" '楊為邦'\",\n",
       "  \" '甘俞珺'\",\n",
       "  \" '蘇奕'\",\n",
       "  \" '謝金花'\",\n",
       "  \" '郭建佑'\",\n",
       "  \" '陸冠宏'\",\n",
       "  \" '雷子賢'\",\n",
       "  \" '黃昱凱'\",\n",
       "  \" '黃柏元'\",\n",
       "  \" '龔政宇'\"),\n",
       " (33,\n",
       "  19,\n",
       "  60,\n",
       "  74,\n",
       "  56,\n",
       "  71,\n",
       "  46,\n",
       "  85,\n",
       "  32,\n",
       "  6,\n",
       "  92,\n",
       "  55,\n",
       "  80,\n",
       "  97,\n",
       "  36,\n",
       "  92,\n",
       "  37,\n",
       "  22,\n",
       "  79,\n",
       "  20,\n",
       "  29,\n",
       "  9,\n",
       "  79),\n",
       " (93,\n",
       "  57,\n",
       "  60,\n",
       "  62,\n",
       "  49,\n",
       "  60,\n",
       "  34,\n",
       "  99,\n",
       "  11,\n",
       "  53,\n",
       "  95,\n",
       "  33,\n",
       "  22,\n",
       "  71,\n",
       "  89,\n",
       "  2,\n",
       "  78,\n",
       "  57,\n",
       "  89,\n",
       "  49,\n",
       "  24,\n",
       "  5,\n",
       "  67),\n",
       " (33,\n",
       "  70,\n",
       "  79,\n",
       "  100,\n",
       "  52,\n",
       "  55,\n",
       "  27,\n",
       "  49,\n",
       "  94,\n",
       "  17,\n",
       "  38,\n",
       "  30,\n",
       "  96,\n",
       "  48,\n",
       "  20,\n",
       "  96,\n",
       "  32,\n",
       "  37,\n",
       "  3,\n",
       "  100,\n",
       "  3,\n",
       "  43,\n",
       "  73)]"
      ]
     },
     "execution_count": 34,
     "metadata": {},
     "output_type": "execute_result"
    }
   ],
   "source": [
    "new_list = sorted(list_2d[1:], key = lambda s :s[1])\n",
    "list(zip(*new_list)) \n",
    "# 重要背起來 [(0攔),(1攔)(2攔) ...... ]\n",
    "# 攔打包"
   ]
  },
  {
   "cell_type": "code",
   "execution_count": 43,
   "id": "c695b383",
   "metadata": {
    "scrolled": true
   },
   "outputs": [
    {
     "data": {
      "text/plain": [
       "(33,\n",
       " 70,\n",
       " 79,\n",
       " 100,\n",
       " 52,\n",
       " 55,\n",
       " 27,\n",
       " 49,\n",
       " 94,\n",
       " 17,\n",
       " 38,\n",
       " 30,\n",
       " 96,\n",
       " 48,\n",
       " 20,\n",
       " 96,\n",
       " 32,\n",
       " 37,\n",
       " 3,\n",
       " 100,\n",
       " 3,\n",
       " 43,\n",
       " 73)"
      ]
     },
     "execution_count": 43,
     "metadata": {},
     "output_type": "execute_result"
    }
   ],
   "source": [
    "app = list(zip(*new_list))[4] # 第 5 攔\n",
    "app"
   ]
  },
  {
   "cell_type": "markdown",
   "id": "d847a016",
   "metadata": {},
   "source": [
    "## app名次排名"
   ]
  },
  {
   "cell_type": "code",
   "execution_count": 45,
   "id": "000fca52",
   "metadata": {},
   "outputs": [
    {
     "data": {
      "text/plain": [
       "[1,\n",
       " 1,\n",
       " 1,\n",
       " 1,\n",
       " 5,\n",
       " 5,\n",
       " 7,\n",
       " 7,\n",
       " 7,\n",
       " 10,\n",
       " 10,\n",
       " 12,\n",
       " 12,\n",
       " 14,\n",
       " 15,\n",
       " 15,\n",
       " 17,\n",
       " 17,\n",
       " 19,\n",
       " 19,\n",
       " 21,\n",
       " 21,\n",
       " 21]"
      ]
     },
     "execution_count": 45,
     "metadata": {},
     "output_type": "execute_result"
    }
   ],
   "source": [
    "app = list(zip(*new_list))[4] # 第 5 攔\n",
    "\n",
    "now_ranking = 1\n",
    "rank = []\n",
    "for n in range(0,len(app)):\n",
    "    if n == 0 :\n",
    "        rank.append(1)\n",
    "    else :\n",
    "        if app[n-1] > app[n]:\n",
    "            rank.append(n+1)\n",
    "            now_ranking = n+1\n",
    "        else : \n",
    "            rank.append(now_ranking)\n",
    "    \n",
    "rank"
   ]
  },
  {
   "cell_type": "code",
   "execution_count": null,
   "id": "13497aea",
   "metadata": {},
   "outputs": [],
   "source": []
  }
 ],
 "metadata": {
  "kernelspec": {
   "display_name": "Python 3 (ipykernel)",
   "language": "python",
   "name": "python3"
  },
  "language_info": {
   "codemirror_mode": {
    "name": "ipython",
    "version": 3
   },
   "file_extension": ".py",
   "mimetype": "text/x-python",
   "name": "python",
   "nbconvert_exporter": "python",
   "pygments_lexer": "ipython3",
   "version": "3.9.13"
  }
 },
 "nbformat": 4,
 "nbformat_minor": 5
}
